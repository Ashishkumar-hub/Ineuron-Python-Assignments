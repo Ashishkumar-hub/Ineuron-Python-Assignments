{
  "nbformat": 4,
  "nbformat_minor": 0,
  "metadata": {
    "colab": {
      "name": "Ineuron_Python_Assignment15.ipynb",
      "provenance": []
    },
    "kernelspec": {
      "name": "python3",
      "display_name": "Python 3"
    },
    "language_info": {
      "name": "python"
    }
  },
  "cells": [
    {
      "cell_type": "markdown",
      "source": [
        "**Ineuron Python Assignment 15**"
      ],
      "metadata": {
        "id": "_KKIMd-5wt8g"
      }
    },
    {
      "cell_type": "markdown",
      "source": [
        "1. How many seconds are in an hour? Use the interactive interpreter as a calculator and multiply the number of seconds in a minute (60) by the number of minutes in an hour (also 60).sol. 60\n",
        "\n",
        "Answer: "
      ],
      "metadata": {
        "id": "ieNhisHGwzJK"
      }
    },
    {
      "cell_type": "code",
      "source": [
        "60 * 60"
      ],
      "metadata": {
        "colab": {
          "base_uri": "https://localhost:8080/"
        },
        "id": "LOjJTCeJztMy",
        "outputId": "41ca53dc-5475-4f6c-80db-d1da2398fe7e"
      },
      "execution_count": 1,
      "outputs": [
        {
          "output_type": "execute_result",
          "data": {
            "text/plain": [
              "3600"
            ]
          },
          "metadata": {},
          "execution_count": 1
        }
      ]
    },
    {
      "cell_type": "markdown",
      "source": [
        "2. Assign the result from the previous task (seconds in an hour) to a variable called seconds_per_hour.\n",
        "\n",
        "Answer: "
      ],
      "metadata": {
        "id": "Iyna-m6zw1I1"
      }
    },
    {
      "cell_type": "code",
      "source": [
        "seconds_per_hour = 3600"
      ],
      "metadata": {
        "id": "CxksxGZ-z2Hr"
      },
      "execution_count": 2,
      "outputs": []
    },
    {
      "cell_type": "markdown",
      "source": [
        "3. How many seconds do you think there are in a day? Make use of the variables seconds per hour\n",
        "and minutes per hour.\n",
        "\n",
        "Answer: "
      ],
      "metadata": {
        "id": "nBSBjS_Dw24C"
      }
    },
    {
      "cell_type": "code",
      "source": [
        "seconds_per_hour * 24"
      ],
      "metadata": {
        "colab": {
          "base_uri": "https://localhost:8080/"
        },
        "id": "P_DOGDur0GV6",
        "outputId": "8e6dcf66-3016-48c3-f264-a06b07e6dc0c"
      },
      "execution_count": 4,
      "outputs": [
        {
          "output_type": "execute_result",
          "data": {
            "text/plain": [
              "86400"
            ]
          },
          "metadata": {},
          "execution_count": 4
        }
      ]
    },
    {
      "cell_type": "markdown",
      "source": [
        "\n",
        "4. Calculate seconds per day again, but this time save the result in a variable called seconds_per_day\n",
        "\n",
        "Answer: "
      ],
      "metadata": {
        "id": "6ciEbWTpw4ZZ"
      }
    },
    {
      "cell_type": "code",
      "source": [
        "seconds_per_day = seconds_per_hour * 24\n",
        "seconds_per_day"
      ],
      "metadata": {
        "colab": {
          "base_uri": "https://localhost:8080/"
        },
        "id": "zMm41GDY0Zyf",
        "outputId": "f4a0df0e-b5e6-4422-f8ff-6d656da90702"
      },
      "execution_count": 6,
      "outputs": [
        {
          "output_type": "execute_result",
          "data": {
            "text/plain": [
              "86400"
            ]
          },
          "metadata": {},
          "execution_count": 6
        }
      ]
    },
    {
      "cell_type": "markdown",
      "source": [
        "\n",
        "5. Divide seconds_per_day by seconds_per_hour. Use floating-point (/) division.\n",
        "\n",
        "Answer: "
      ],
      "metadata": {
        "id": "ZAFeykNgw6Z6"
      }
    },
    {
      "cell_type": "code",
      "source": [
        "seconds_per_day/seconds_per_hour"
      ],
      "metadata": {
        "colab": {
          "base_uri": "https://localhost:8080/"
        },
        "id": "xRzdsRlJ0f_a",
        "outputId": "808a58b3-359b-448b-fc12-09e66d8e8144"
      },
      "execution_count": 7,
      "outputs": [
        {
          "output_type": "execute_result",
          "data": {
            "text/plain": [
              "24.0"
            ]
          },
          "metadata": {},
          "execution_count": 7
        }
      ]
    },
    {
      "cell_type": "markdown",
      "source": [
        "6. Divide seconds_per_day by seconds_per_hour, using integer (//) division. Did this number agree\n",
        "with the floating-point value from the previous question, aside from the final .0?\n",
        "\n",
        "Answer: "
      ],
      "metadata": {
        "id": "YOGRmIdZw8fa"
      }
    },
    {
      "cell_type": "code",
      "source": [
        "seconds_per_day//seconds_per_hour # YES IT AGRESS"
      ],
      "metadata": {
        "colab": {
          "base_uri": "https://localhost:8080/"
        },
        "id": "Y-3z9jYq0s86",
        "outputId": "f68a42c9-4880-496a-c35d-67bdbd47498c"
      },
      "execution_count": 8,
      "outputs": [
        {
          "output_type": "execute_result",
          "data": {
            "text/plain": [
              "24"
            ]
          },
          "metadata": {},
          "execution_count": 8
        }
      ]
    },
    {
      "cell_type": "markdown",
      "source": [
        "\n",
        "7. Write a generator, genPrimes, that returns the sequence of prime numbers on successive calls to its next() method: 2, 3, 5, 7, 11, ...\n",
        "\n",
        "Answer: "
      ],
      "metadata": {
        "id": "4f7OVlrSw-Qn"
      }
    },
    {
      "cell_type": "code",
      "source": [
        "def genPrimes():\n",
        "    primes = []   #primes generated so far\n",
        "    last = 1      #last number tried\n",
        "    while True:\n",
        "        last += 1\n",
        "        for p in primes:\n",
        "            if last % p == 0:\n",
        "                break\n",
        "        else:\n",
        "            primes.append(last)\n",
        "            yield last\n",
        "p = genPrimes()"
      ],
      "metadata": {
        "id": "Mh_Khg3q07Km"
      },
      "execution_count": 11,
      "outputs": []
    }
  ]
}