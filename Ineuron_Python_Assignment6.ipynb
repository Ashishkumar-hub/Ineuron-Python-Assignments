{
  "nbformat": 4,
  "nbformat_minor": 0,
  "metadata": {
    "colab": {
      "name": "Ineuron_Python_Assignment6.ipynb",
      "provenance": []
    },
    "kernelspec": {
      "name": "python3",
      "display_name": "Python 3"
    },
    "language_info": {
      "name": "python"
    }
  },
  "cells": [
    {
      "cell_type": "markdown",
      "source": [
        "Ineuron Python Assignment 6"
      ],
      "metadata": {
        "id": "U2QoSRqegTKi"
      }
    },
    {
      "cell_type": "markdown",
      "source": [
        "Ques 1. What are escape characters, and how do you use them?\n",
        "\n",
        "Answer: To insert characters that are illegal in a string, use an escape character.\n",
        "An escape character is a backslash \\ followed by the character you want to insert.\n",
        "some of them are \"\\n\", \"\\r\", \"\\t\""
      ],
      "metadata": {
        "id": "QWJfVgsUgW-0"
      }
    },
    {
      "cell_type": "code",
      "source": [
        "fullname = \"my name is \\\"ashish\\\" kumar\" #single quote\n",
        "print(fullname)\n",
        "fullname1 = \"my name is \\tashish kumar\\n\\n\" #newline and tab\n",
        "print(fullname1)\n",
        "fullname2 = \"\\rashish_kumar\" #\tCarriage Return\n",
        "print(fullname2)"
      ],
      "metadata": {
        "colab": {
          "base_uri": "https://localhost:8080/"
        },
        "id": "U7b0Kvggg6Fr",
        "outputId": "6336ab5e-3f53-456c-fb5e-27a03b424f33"
      },
      "execution_count": 6,
      "outputs": [
        {
          "output_type": "stream",
          "name": "stdout",
          "text": [
            "my name is \"ashish\" kumar\n",
            "my name is \tashish kumar\n",
            "\n",
            "\n",
            "\rashish_kumar\n"
          ]
        }
      ]
    },
    {
      "cell_type": "markdown",
      "source": [
        "Ques 2. What do the escape characters n and t stand for?\n",
        "\n",
        "Answer: n stands for newline t stands for tab "
      ],
      "metadata": {
        "id": "rCGhkudogcCr"
      }
    },
    {
      "cell_type": "markdown",
      "source": [
        "\n",
        "Ques 3. What is the way to include backslash characters in a string?\n",
        "\n",
        "Answer: backlash will be printed before ashish"
      ],
      "metadata": {
        "id": "-YajaIrvgdf8"
      }
    },
    {
      "cell_type": "code",
      "source": [
        "txt = \"My name is \\\\ashish.\"\n",
        "print(txt) "
      ],
      "metadata": {
        "colab": {
          "base_uri": "https://localhost:8080/"
        },
        "id": "eLz-FQMPi8dV",
        "outputId": "c3168c2a-677d-42ef-eacf-9eb4d50bd269"
      },
      "execution_count": 7,
      "outputs": [
        {
          "output_type": "stream",
          "name": "stdout",
          "text": [
            "My name is \\ashish.\n"
          ]
        }
      ]
    },
    {
      "cell_type": "markdown",
      "source": [
        "\n",
        "Ques 4. The string &quot;Howl&#39;s Moving Castle&quot; is a correct value. Why isn&#39;t the single quote character in the\n",
        "word Howl&#39;s not escaped a problem?\n",
        "\n",
        "Answer: Because in the above string double quotes are used to mark the beginning and end of the string. "
      ],
      "metadata": {
        "id": "QhoRa4Q8gfOg"
      }
    },
    {
      "cell_type": "markdown",
      "source": [
        "\n",
        "Ques 5. How do you write a string of newlines if you don&#39;t want to use the n character?\n",
        "\n",
        "Answer: Multiline strings allow you to use newlines in strings without the \\n escape character."
      ],
      "metadata": {
        "id": "Pp8eNlpLghQq"
      }
    },
    {
      "cell_type": "markdown",
      "source": [
        "\n",
        "Ques 6. What are the values of the given expressions?\n",
        "\n",
        "&#39;Hello, world!&#39;[1]\n",
        "\n",
        "&#39;Hello, world!&#39;[0:5]\n",
        "\n",
        "&#39;Hello, world!&#39;[:5]\n",
        "\n",
        "&#39;Hello, world!&#39;[3:]\n",
        "\n",
        "Answer:"
      ],
      "metadata": {
        "id": "y_li98PsgjC8"
      }
    },
    {
      "cell_type": "code",
      "source": [
        "\"Hello, world!\"[1]"
      ],
      "metadata": {
        "colab": {
          "base_uri": "https://localhost:8080/",
          "height": 35
        },
        "id": "hnz9MyMmkqCz",
        "outputId": "465483b1-941f-45da-f1fa-7d6d087c8d5c"
      },
      "execution_count": 12,
      "outputs": [
        {
          "output_type": "execute_result",
          "data": {
            "application/vnd.google.colaboratory.intrinsic+json": {
              "type": "string"
            },
            "text/plain": [
              "'e'"
            ]
          },
          "metadata": {},
          "execution_count": 12
        }
      ]
    },
    {
      "cell_type": "code",
      "source": [
        "\"Hello, world!\"[0:5]"
      ],
      "metadata": {
        "colab": {
          "base_uri": "https://localhost:8080/",
          "height": 35
        },
        "id": "7iWOHhEQk47x",
        "outputId": "551addcd-2bf5-4d8e-e7ef-f362c83df887"
      },
      "execution_count": 9,
      "outputs": [
        {
          "output_type": "execute_result",
          "data": {
            "application/vnd.google.colaboratory.intrinsic+json": {
              "type": "string"
            },
            "text/plain": [
              "'Hello'"
            ]
          },
          "metadata": {},
          "execution_count": 9
        }
      ]
    },
    {
      "cell_type": "code",
      "source": [
        "\"Hello, world!\"[:5]"
      ],
      "metadata": {
        "colab": {
          "base_uri": "https://localhost:8080/",
          "height": 35
        },
        "id": "yU4DkTPck4yC",
        "outputId": "68b805a6-8cac-46b0-dfc7-73497a5855d2"
      },
      "execution_count": 10,
      "outputs": [
        {
          "output_type": "execute_result",
          "data": {
            "application/vnd.google.colaboratory.intrinsic+json": {
              "type": "string"
            },
            "text/plain": [
              "'Hello'"
            ]
          },
          "metadata": {},
          "execution_count": 10
        }
      ]
    },
    {
      "cell_type": "code",
      "source": [
        "\"Hello, world!\"[3:]"
      ],
      "metadata": {
        "colab": {
          "base_uri": "https://localhost:8080/",
          "height": 35
        },
        "id": "sA82PFCck4oK",
        "outputId": "91a246f0-ceaa-415e-bcfa-1dffab31509e"
      },
      "execution_count": 11,
      "outputs": [
        {
          "output_type": "execute_result",
          "data": {
            "application/vnd.google.colaboratory.intrinsic+json": {
              "type": "string"
            },
            "text/plain": [
              "'lo, world!'"
            ]
          },
          "metadata": {},
          "execution_count": 11
        }
      ]
    },
    {
      "cell_type": "markdown",
      "source": [
        "\n",
        "Ques 7. What are the values of the following expressions?\n",
        "\n",
        "&#39;Hello&#39;.upper()\n",
        "\n",
        "&#39;Hello&#39;.upper().isupper()\n",
        "\n",
        "&#39;Hello&#39;.upper().lower()\n",
        "\n",
        "Answer:"
      ],
      "metadata": {
        "id": "ktD3IWMzglOs"
      }
    },
    {
      "cell_type": "code",
      "source": [
        "\"Hello\".upper()"
      ],
      "metadata": {
        "colab": {
          "base_uri": "https://localhost:8080/",
          "height": 35
        },
        "id": "qV46j26vkPYO",
        "outputId": "47daa2c4-16aa-4d89-e03c-4c20a7747080"
      },
      "execution_count": 13,
      "outputs": [
        {
          "output_type": "execute_result",
          "data": {
            "application/vnd.google.colaboratory.intrinsic+json": {
              "type": "string"
            },
            "text/plain": [
              "'HELLO'"
            ]
          },
          "metadata": {},
          "execution_count": 13
        }
      ]
    },
    {
      "cell_type": "code",
      "source": [
        "\"Hello\".upper().isupper()"
      ],
      "metadata": {
        "colab": {
          "base_uri": "https://localhost:8080/"
        },
        "id": "AJd58AJ3lRRO",
        "outputId": "ebe9079d-07a3-454d-93d0-1bcae209bbca"
      },
      "execution_count": 14,
      "outputs": [
        {
          "output_type": "execute_result",
          "data": {
            "text/plain": [
              "True"
            ]
          },
          "metadata": {},
          "execution_count": 14
        }
      ]
    },
    {
      "cell_type": "code",
      "source": [
        "\"Hello\".upper().lower()"
      ],
      "metadata": {
        "colab": {
          "base_uri": "https://localhost:8080/",
          "height": 35
        },
        "id": "DAPUZJU9lRJP",
        "outputId": "48a691cb-3ed3-42fc-fdd8-ca3790bed680"
      },
      "execution_count": 15,
      "outputs": [
        {
          "output_type": "execute_result",
          "data": {
            "application/vnd.google.colaboratory.intrinsic+json": {
              "type": "string"
            },
            "text/plain": [
              "'hello'"
            ]
          },
          "metadata": {},
          "execution_count": 15
        }
      ]
    },
    {
      "cell_type": "markdown",
      "source": [
        "\n",
        "Ques 8. What are the values of the following expressions?\n",
        "\n",
        "&#39;Remember, remember, the fifth of July.&#39;.split()\n",
        "\n",
        "&#39;-&#39;.join(&#39;There can only one.&#39;.split())\n",
        "\n",
        "Answer: "
      ],
      "metadata": {
        "id": "_xCcT5zSgmmq"
      }
    },
    {
      "cell_type": "code",
      "source": [
        "'Remember, remember, the fifth of July.'.split()"
      ],
      "metadata": {
        "colab": {
          "base_uri": "https://localhost:8080/"
        },
        "id": "djItM0Xnlja5",
        "outputId": "fd894345-4a8e-42f1-a8c7-c80957e337ea"
      },
      "execution_count": 16,
      "outputs": [
        {
          "output_type": "execute_result",
          "data": {
            "text/plain": [
              "['Remember,', 'remember,', 'the', 'fifth', 'of', 'July.']"
            ]
          },
          "metadata": {},
          "execution_count": 16
        }
      ]
    },
    {
      "cell_type": "code",
      "source": [
        "'-'.join('There can only one.'.split())"
      ],
      "metadata": {
        "colab": {
          "base_uri": "https://localhost:8080/",
          "height": 35
        },
        "id": "Grku3rb6lnGt",
        "outputId": "184c0138-0e6f-4a8f-8d0f-9391630b947a"
      },
      "execution_count": 17,
      "outputs": [
        {
          "output_type": "execute_result",
          "data": {
            "application/vnd.google.colaboratory.intrinsic+json": {
              "type": "string"
            },
            "text/plain": [
              "'There-can-only-one.'"
            ]
          },
          "metadata": {},
          "execution_count": 17
        }
      ]
    },
    {
      "cell_type": "markdown",
      "source": [
        "\n",
        "Ques 9. What are the methods for right-justifying, left-justifying, and centering a string?\n",
        "\n",
        "Answer: The rjust(), ljust(), and center() string methods, respectively"
      ],
      "metadata": {
        "id": "EIBgR6-0goJb"
      }
    },
    {
      "cell_type": "code",
      "source": [
        "a = \"ashish is my name\"\n",
        "print(a.center(100))\n",
        "print(a.rjust(100))\n",
        "print(a.ljust(100))"
      ],
      "metadata": {
        "colab": {
          "base_uri": "https://localhost:8080/"
        },
        "id": "HBjQ_5ZVls4q",
        "outputId": "11ee611c-54e3-4f54-a07c-8848101e7262"
      },
      "execution_count": 21,
      "outputs": [
        {
          "output_type": "stream",
          "name": "stdout",
          "text": [
            "                                         ashish is my name                                          \n",
            "                                                                                   ashish is my name\n",
            "ashish is my name                                                                                   \n"
          ]
        }
      ]
    },
    {
      "cell_type": "markdown",
      "source": [
        "\n",
        "Ques 10. What is the best way to remove whitespace characters from the start or end?\n",
        "\n",
        "Answer: The lstrip() and rstrip() methods remove whitespace from the left and right ends of a string, respectively."
      ],
      "metadata": {
        "id": "42ZqgexRgpkX"
      }
    },
    {
      "cell_type": "code",
      "execution_count": 23,
      "metadata": {
        "colab": {
          "base_uri": "https://localhost:8080/"
        },
        "id": "I7LEAxS8gJo1",
        "outputId": "6143c77d-d90e-446e-942c-51c050810173"
      },
      "outputs": [
        {
          "output_type": "stream",
          "name": "stdout",
          "text": [
            "ashish is my name               \n",
            "          ashish is my name\n"
          ]
        }
      ],
      "source": [
        "a = \"          ashish is my name               \"\n",
        "print(a.lstrip())\n",
        "print(a.rstrip())\n"
      ]
    }
  ]
}