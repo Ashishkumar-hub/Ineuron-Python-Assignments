{
  "nbformat": 4,
  "nbformat_minor": 0,
  "metadata": {
    "colab": {
      "name": "Ineuron_Python_Assignment21.ipynb",
      "provenance": [],
      "collapsed_sections": []
    },
    "kernelspec": {
      "name": "python3",
      "display_name": "Python 3"
    },
    "language_info": {
      "name": "python"
    }
  },
  "cells": [
    {
      "cell_type": "markdown",
      "metadata": {
        "id": "6Nw9DRc2Hern"
      },
      "source": [
        "**Ineuron Python Assignment 21**"
      ]
    },
    {
      "cell_type": "markdown",
      "metadata": {
        "id": "X7D5mbcXHi5l"
      },
      "source": [
        "Ques 1. Add the current date to the text file today.txt as a string."
      ]
    },
    {
      "cell_type": "code",
      "metadata": {
        "colab": {
          "base_uri": "https://localhost:8080/",
          "height": 35
        },
        "id": "U166OAE1HbK8",
        "outputId": "592fb92d-b010-4b74-d0f2-36aa3e2d5f4d"
      },
      "source": [
        "import datetime\n",
        "from datetime import date\n",
        "now = date.today()\n",
        "cur_date = now.isoformat()\n",
        "cur_date"
      ],
      "execution_count": 1,
      "outputs": [
        {
          "output_type": "execute_result",
          "data": {
            "application/vnd.google.colaboratory.intrinsic+json": {
              "type": "string"
            },
            "text/plain": [
              "'2022-01-13'"
            ]
          },
          "metadata": {},
          "execution_count": 1
        }
      ]
    },
    {
      "cell_type": "code",
      "metadata": {
        "id": "rnhAo-QIHouq"
      },
      "source": [
        "with open('today.txt','w') as file:\n",
        "    file.write(cur_date)"
      ],
      "execution_count": 2,
      "outputs": []
    },
    {
      "cell_type": "markdown",
      "metadata": {
        "id": "uj1iKwb0Ic_2"
      },
      "source": [
        "Ques 2. Read the text file today.txt into the string today_string"
      ]
    },
    {
      "cell_type": "code",
      "metadata": {
        "colab": {
          "base_uri": "https://localhost:8080/",
          "height": 35
        },
        "id": "qXCd1k-gIYiF",
        "outputId": "c455dcd8-a84a-4b57-a5f1-76d8e2cecdcf"
      },
      "source": [
        "with open('today.txt','r') as file:\n",
        "    today_string = file.read()\n",
        "today_string"
      ],
      "execution_count": 3,
      "outputs": [
        {
          "output_type": "execute_result",
          "data": {
            "application/vnd.google.colaboratory.intrinsic+json": {
              "type": "string"
            },
            "text/plain": [
              "'2022-01-13'"
            ]
          },
          "metadata": {},
          "execution_count": 3
        }
      ]
    },
    {
      "cell_type": "markdown",
      "metadata": {
        "id": "LrIDHGFBIig7"
      },
      "source": [
        "Ques 3. Parse the date from today_string."
      ]
    },
    {
      "cell_type": "code",
      "metadata": {
        "colab": {
          "base_uri": "https://localhost:8080/"
        },
        "id": "MuwBYzZFIfw7",
        "outputId": "fe935401-9ce0-4837-c492-e5cc87087197"
      },
      "source": [
        "from datetime import datetime\n",
        "format = '%Y-%m-%d'\n",
        "datetime.strptime(today_string,format)"
      ],
      "execution_count": 4,
      "outputs": [
        {
          "output_type": "execute_result",
          "data": {
            "text/plain": [
              "datetime.datetime(2022, 1, 13, 0, 0)"
            ]
          },
          "metadata": {},
          "execution_count": 4
        }
      ]
    },
    {
      "cell_type": "markdown",
      "metadata": {
        "id": "WxS5ql4HIns3"
      },
      "source": [
        "Ques 4. List the files in your current directory"
      ]
    },
    {
      "cell_type": "code",
      "metadata": {
        "colab": {
          "base_uri": "https://localhost:8080/"
        },
        "id": "CT1raJTeIk7J",
        "outputId": "f6176c5b-4b5b-4be7-94f8-ebc4e94f4166"
      },
      "source": [
        "import os\n",
        "os.listdir('.')"
      ],
      "execution_count": 5,
      "outputs": [
        {
          "output_type": "execute_result",
          "data": {
            "text/plain": [
              "['.config', 'today.txt', 'sample_data']"
            ]
          },
          "metadata": {},
          "execution_count": 5
        }
      ]
    },
    {
      "cell_type": "markdown",
      "source": [
        "Ques 5. Create a list of all of the files in your parent directory (minimum five files should be available)."
      ],
      "metadata": {
        "id": "iRkoRuwKr_DD"
      }
    },
    {
      "cell_type": "code",
      "source": [
        "from google.colab import drive\n",
        "drive.mount('/content/drive')"
      ],
      "metadata": {
        "colab": {
          "base_uri": "https://localhost:8080/"
        },
        "id": "p_LEIKZMta4c",
        "outputId": "e2f61234-2ccb-4bf0-ee6e-b42a05c6f2d7"
      },
      "execution_count": 17,
      "outputs": [
        {
          "output_type": "stream",
          "name": "stdout",
          "text": [
            "Mounted at /content/drive\n"
          ]
        }
      ]
    },
    {
      "cell_type": "code",
      "source": [
        "import os\n",
        "path = \"/content/drive/MyDrive/thesis masters\"\n",
        "dir_list = os.listdir(path)\n",
        "print(\"Files and directories in '\", path, \"' :\")\n",
        "print(dir_list)\n"
      ],
      "metadata": {
        "colab": {
          "base_uri": "https://localhost:8080/"
        },
        "id": "GPDhzzvdtUrD",
        "outputId": "2eeae0ef-d812-4dec-8e9a-de807d4b65dc"
      },
      "execution_count": 18,
      "outputs": [
        {
          "output_type": "stream",
          "name": "stdout",
          "text": [
            "Files and directories in ' /content/drive/MyDrive/thesis masters ' :\n",
            "['Life in NTUT.docx']\n"
          ]
        }
      ]
    },
    {
      "cell_type": "markdown",
      "metadata": {
        "id": "t_cu3DbGJ2e_"
      },
      "source": [
        "Ques 6.  Use multiprocessing to create three separate processes. Make each one wait a random number of seconds between one and five, print the current time, and then exit."
      ]
    },
    {
      "cell_type": "code",
      "metadata": {
        "id": "Gr2Lds7eJ8A7",
        "colab": {
          "base_uri": "https://localhost:8080/"
        },
        "outputId": "fa3e5370-90b0-4e03-9cc2-e4456ad54979"
      },
      "source": [
        "import multiprocessing\n",
        "\n",
        "def printsec(seconds):\n",
        "    from datetime import datetime\n",
        "    from time import sleep\n",
        "    sleep(seconds)\n",
        "    print('wait', seconds, 'seconds, time is', datetime.utcnow())\n",
        "    \n",
        "if __name__ == '__main__':\n",
        "    import random    \n",
        "    for n in range(3):\n",
        "        seconds = random.random()\n",
        "        proc = multiprocessing.Process(target=printsec, args=(seconds,))\n",
        "        proc.start()"
      ],
      "execution_count": 10,
      "outputs": [
        {
          "output_type": "stream",
          "name": "stdout",
          "text": [
            "wait 0.2761955623379915 seconds, time is 2022-01-13 13:47:11.684334\n"
          ]
        }
      ]
    },
    {
      "cell_type": "markdown",
      "metadata": {
        "id": "3DQeVniENrtd"
      },
      "source": [
        "Ques 7. Create a date object of your day of birth"
      ]
    },
    {
      "cell_type": "code",
      "metadata": {
        "colab": {
          "base_uri": "https://localhost:8080/"
        },
        "id": "z4QUpLFOKG_v",
        "outputId": "e5f9bb85-b3d9-49ae-a92e-eebe5f05a084"
      },
      "source": [
        "my_dob = date(1996,5,16)\n",
        "my_dob"
      ],
      "execution_count": 13,
      "outputs": [
        {
          "output_type": "execute_result",
          "data": {
            "text/plain": [
              "datetime.date(1996, 5, 16)"
            ]
          },
          "metadata": {},
          "execution_count": 13
        }
      ]
    },
    {
      "cell_type": "markdown",
      "metadata": {
        "id": "Dz-aFuxDN9Zl"
      },
      "source": [
        "Ques 8. What day of the week was your day of birth?"
      ]
    },
    {
      "cell_type": "code",
      "metadata": {
        "colab": {
          "base_uri": "https://localhost:8080/"
        },
        "id": "sne1pWldNyyI",
        "outputId": "8a5481e1-cab2-4769-e839-2f7f24fcfc74"
      },
      "source": [
        "my_dob.weekday()"
      ],
      "execution_count": 14,
      "outputs": [
        {
          "output_type": "execute_result",
          "data": {
            "text/plain": [
              "3"
            ]
          },
          "metadata": {},
          "execution_count": 14
        }
      ]
    },
    {
      "cell_type": "markdown",
      "metadata": {
        "id": "ElayoapJOODf"
      },
      "source": [
        "Ques 9. When will you be (or when were you) 10,000 days old?"
      ]
    },
    {
      "cell_type": "code",
      "metadata": {
        "colab": {
          "base_uri": "https://localhost:8080/"
        },
        "id": "HzFn9wlsOR_v",
        "outputId": "38af2094-607b-4631-a327-ebf4ea3dcb76"
      },
      "source": [
        "from datetime import timedelta\n",
        "day10000 = my_dob + timedelta(days=10000)\n",
        "day10000"
      ],
      "execution_count": 16,
      "outputs": [
        {
          "output_type": "execute_result",
          "data": {
            "text/plain": [
              "datetime.date(2023, 10, 2)"
            ]
          },
          "metadata": {},
          "execution_count": 16
        }
      ]
    }
  ]
}