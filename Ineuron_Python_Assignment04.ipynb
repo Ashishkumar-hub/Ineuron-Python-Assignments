{
  "nbformat": 4,
  "nbformat_minor": 0,
  "metadata": {
    "colab": {
      "name": "Ineuron_Python_Assignment4.ipynb",
      "provenance": []
    },
    "kernelspec": {
      "name": "python3",
      "display_name": "Python 3"
    },
    "language_info": {
      "name": "python"
    }
  },
  "cells": [
    {
      "cell_type": "markdown",
      "source": [
        "**Ineuron Python Assignment 4**"
      ],
      "metadata": {
        "id": "_Eoae7Qx4gO9"
      }
    },
    {
      "cell_type": "markdown",
      "source": [
        "Ques 1: What exactly is []?\n",
        "\n",
        "Answer: In Python, a list is created by placing elements inside square brackets [] , separated by commas."
      ],
      "metadata": {
        "id": "ajIXFi97uS3e"
      }
    },
    {
      "cell_type": "markdown",
      "source": [
        "Ques 2: In a list of values stored in a variable called spam, how would you assign the value 'hello' as the third value? (Assume [2, 4, 6, 8, 10] are in spam.)\n",
        "\n",
        "Answer:"
      ],
      "metadata": {
        "id": "_FYEyhSEuqKz"
      }
    },
    {
      "cell_type": "code",
      "source": [
        "spam = [2, 4, 6, 8, 10]\n",
        "spam[2] = \"hello\"\n",
        "spam"
      ],
      "metadata": {
        "colab": {
          "base_uri": "https://localhost:8080/"
        },
        "id": "5HR1ndIzu87s",
        "outputId": "2162b4c9-636e-4494-b0ed-e4e821553e08"
      },
      "execution_count": 5,
      "outputs": [
        {
          "output_type": "execute_result",
          "data": {
            "text/plain": [
              "[2, 4, 'hello', 8, 10]"
            ]
          },
          "metadata": {},
          "execution_count": 5
        }
      ]
    },
    {
      "cell_type": "markdown",
      "source": [
        "**Let&#39;s pretend the spam includes the list ['a','b','c','d'] for the next three queries.**"
      ],
      "metadata": {
        "id": "ULvyKGu5vs__"
      }
    },
    {
      "cell_type": "code",
      "source": [
        "spam = ['a','b','c','d']\n",
        "len(spam)"
      ],
      "metadata": {
        "colab": {
          "base_uri": "https://localhost:8080/"
        },
        "id": "7scasJP8vFes",
        "outputId": "e5359e36-5da9-4eca-ef3e-842897e9bfff"
      },
      "execution_count": 9,
      "outputs": [
        {
          "output_type": "execute_result",
          "data": {
            "text/plain": [
              "4"
            ]
          },
          "metadata": {},
          "execution_count": 9
        }
      ]
    },
    {
      "cell_type": "markdown",
      "source": [
        "Ques 3: What is the value of spam[int(int('3'* 2) / 11)]?"
      ],
      "metadata": {
        "id": "HhAQ7WTIwEnp"
      }
    },
    {
      "cell_type": "code",
      "source": [
        "spam[int(int('3'* 2) / 11)]"
      ],
      "metadata": {
        "colab": {
          "base_uri": "https://localhost:8080/",
          "height": 35
        },
        "id": "eIGoYWA_wBPW",
        "outputId": "dff23c74-28ee-4737-889a-cde939482f67"
      },
      "execution_count": 8,
      "outputs": [
        {
          "output_type": "execute_result",
          "data": {
            "application/vnd.google.colaboratory.intrinsic+json": {
              "type": "string"
            },
            "text/plain": [
              "'d'"
            ]
          },
          "metadata": {},
          "execution_count": 8
        }
      ]
    },
    {
      "cell_type": "markdown",
      "source": [
        "Ques 4: What is the value of spam[-1]?"
      ],
      "metadata": {
        "id": "nMJ2i16ewmSY"
      }
    },
    {
      "cell_type": "code",
      "source": [
        "spam[-1]"
      ],
      "metadata": {
        "colab": {
          "base_uri": "https://localhost:8080/",
          "height": 35
        },
        "id": "cz4hmiDMwV6N",
        "outputId": "5f4acf1c-4450-4c08-c5b6-da7e43efe72b"
      },
      "execution_count": 10,
      "outputs": [
        {
          "output_type": "execute_result",
          "data": {
            "application/vnd.google.colaboratory.intrinsic+json": {
              "type": "string"
            },
            "text/plain": [
              "'d'"
            ]
          },
          "metadata": {},
          "execution_count": 10
        }
      ]
    },
    {
      "cell_type": "markdown",
      "source": [
        "Ques 5: What is the value of spam[:2]?"
      ],
      "metadata": {
        "id": "sdywk0O1wx7u"
      }
    },
    {
      "cell_type": "code",
      "source": [
        "spam[:2]"
      ],
      "metadata": {
        "colab": {
          "base_uri": "https://localhost:8080/"
        },
        "id": "mx4zmIXcwtea",
        "outputId": "d46b7a6c-e4ab-4949-d501-ce57da96f672"
      },
      "execution_count": 11,
      "outputs": [
        {
          "output_type": "execute_result",
          "data": {
            "text/plain": [
              "['a', 'b']"
            ]
          },
          "metadata": {},
          "execution_count": 11
        }
      ]
    },
    {
      "cell_type": "markdown",
      "source": [
        "Let's pretend bacon has the list [3.14, 'cat,' 11, 'cat,' True] for the next three questions."
      ],
      "metadata": {
        "id": "txqB3MCHxB82"
      }
    },
    {
      "cell_type": "code",
      "source": [
        "bacon = [3.14, 'cat', 11, 'cat', True]"
      ],
      "metadata": {
        "id": "17I0CFeOw1h7"
      },
      "execution_count": 13,
      "outputs": []
    },
    {
      "cell_type": "markdown",
      "source": [
        "Ques 6: What is the value of bacon.index(\"cat\")?"
      ],
      "metadata": {
        "id": "GVso567bxj4m"
      }
    },
    {
      "cell_type": "code",
      "source": [
        "bacon.index(\"cat\")"
      ],
      "metadata": {
        "colab": {
          "base_uri": "https://localhost:8080/"
        },
        "id": "vv0Y5rJbxilA",
        "outputId": "2b1677ce-fb3a-4544-8bc2-1e555ac0f35e"
      },
      "execution_count": 14,
      "outputs": [
        {
          "output_type": "execute_result",
          "data": {
            "text/plain": [
              "1"
            ]
          },
          "metadata": {},
          "execution_count": 14
        }
      ]
    },
    {
      "cell_type": "markdown",
      "source": [
        "Ques 7: How does bacon.append(99) change the look of the list value in bacon?"
      ],
      "metadata": {
        "id": "gMcbUrUfxsPg"
      }
    },
    {
      "cell_type": "code",
      "source": [
        "bacon.append(99)"
      ],
      "metadata": {
        "id": "0r6_MOCKxr25"
      },
      "execution_count": 15,
      "outputs": []
    },
    {
      "cell_type": "code",
      "source": [
        "bacon"
      ],
      "metadata": {
        "colab": {
          "base_uri": "https://localhost:8080/"
        },
        "id": "r3fwdL5bxnhm",
        "outputId": "3c6ff7f2-3455-4b71-a616-ef528440b584"
      },
      "execution_count": 16,
      "outputs": [
        {
          "output_type": "execute_result",
          "data": {
            "text/plain": [
              "[3.14, 'cat', 11, 'cat', True, 99]"
            ]
          },
          "metadata": {},
          "execution_count": 16
        }
      ]
    },
    {
      "cell_type": "markdown",
      "source": [
        "Ques 8: How does bacon.remove(&#39;cat&#39;) change the look of the list in bacon?"
      ],
      "metadata": {
        "id": "-yTYaZ8ix5pW"
      }
    },
    {
      "cell_type": "code",
      "source": [
        " bacon.remove('cat') "
      ],
      "metadata": {
        "id": "Eg5qWQF4xy7s"
      },
      "execution_count": 17,
      "outputs": []
    },
    {
      "cell_type": "code",
      "source": [
        "bacon"
      ],
      "metadata": {
        "colab": {
          "base_uri": "https://localhost:8080/"
        },
        "id": "DO0rnQzdx979",
        "outputId": "ba6f047d-55ae-4d10-fae5-e56ab1f28ba9"
      },
      "execution_count": 18,
      "outputs": [
        {
          "output_type": "execute_result",
          "data": {
            "text/plain": [
              "[3.14, 11, 'cat', True, 99]"
            ]
          },
          "metadata": {},
          "execution_count": 18
        }
      ]
    },
    {
      "cell_type": "markdown",
      "source": [
        "Ques 9: What are the list concatenation and list replication operators?\n",
        "\n",
        "Answer: \n",
        "The operator for list concatenation is +, while the operator for replication is *."
      ],
      "metadata": {
        "id": "D1u16RqsyHcj"
      }
    },
    {
      "cell_type": "markdown",
      "source": [
        "Ques 10: What is difference between the list methods append() and insert()?\n",
        "\n",
        "Answer:\n",
        "The difference is that with append, you just add a new entry at the end of the list. With insert(position, new_entry) you can create a new entry exactly in the position you want."
      ],
      "metadata": {
        "id": "hl8hEEv0yW8s"
      }
    },
    {
      "cell_type": "markdown",
      "source": [
        "Ques 11: What are the two methods for removing items from a list?\n",
        "\n",
        "Answer: In Python, there are many methods available on the list data type that helps you to remove an element from a given list. The methods are remove(), pop() and clear()."
      ],
      "metadata": {
        "id": "seEGlPjvydmE"
      }
    },
    {
      "cell_type": "markdown",
      "source": [
        "Ques 12: Describe how list values and string values are identical.\n",
        "\n",
        "Answer: The similarity between Lists and Strings in Python is that both are sequences. The differences between them are that firstly, Lists are mutable but Strings are immutable. Secondly, elements of a list can be of different types whereas a String only contains characters that are all of String type."
      ],
      "metadata": {
        "id": "MreOUGwSyf5E"
      }
    },
    {
      "cell_type": "markdown",
      "source": [
        "Ques 13: What's the difference between tuples and lists?\n",
        "\n",
        "Answer: The key difference between the tuples and lists is that while the tuples are immutable objects the lists are mutable. This means that tuples cannot be changed while the lists can be modified. Tuples are more memory efficient than the lists.\n"
      ],
      "metadata": {
        "id": "XC8VoXiByh4k"
      }
    },
    {
      "cell_type": "markdown",
      "source": [
        "Ques 14: How do you type a tuple value that only contains the integer 42?"
      ],
      "metadata": {
        "id": "TQcbah_xynPH"
      }
    },
    {
      "cell_type": "code",
      "source": [
        "tuple1 = (42)\n",
        "type(tuple1)"
      ],
      "metadata": {
        "colab": {
          "base_uri": "https://localhost:8080/"
        },
        "id": "3N9csgFq0A95",
        "outputId": "3649e484-ac00-4bec-e03c-80d6a9bd37d2"
      },
      "execution_count": 20,
      "outputs": [
        {
          "output_type": "execute_result",
          "data": {
            "text/plain": [
              "int"
            ]
          },
          "metadata": {},
          "execution_count": 20
        }
      ]
    },
    {
      "cell_type": "markdown",
      "source": [
        "Ques 15: How do you get a list value's tuple form? How do you get a tuple value's list form?\n",
        "\n"
      ],
      "metadata": {
        "id": "DCKUA15Xyo4d"
      }
    },
    {
      "cell_type": "code",
      "source": [
        "data = [(1, 'ashish'), (2, 'pooja'), (3, 'karuna'),\n",
        "        (4, 'vikas'), (5, 'santosh')]\n",
        "data"
      ],
      "metadata": {
        "colab": {
          "base_uri": "https://localhost:8080/"
        },
        "id": "cOkXZglk2l62",
        "outputId": "69b5cc5b-4eb8-4912-c996-eb9d90b63370"
      },
      "execution_count": 30,
      "outputs": [
        {
          "output_type": "execute_result",
          "data": {
            "text/plain": [
              "[(1, 'ashish'), (2, 'pooja'), (3, 'karuna'), (4, 'vikas'), (5, 'santosh')]"
            ]
          },
          "metadata": {},
          "execution_count": 30
        }
      ]
    },
    {
      "cell_type": "markdown",
      "source": [
        "There are other methods also like zip(), iter() and map()"
      ],
      "metadata": {
        "id": "fjhhFCv24MlY"
      }
    },
    {
      "cell_type": "markdown",
      "source": [
        "Ques 16: Variables that \"contain\" list values are not necessarily lists themselves. Instead, what do they contain?\n",
        "\n",
        "Answer: Variables will contain references to list values rather than list values themselves. But for strings and integer values, variables simply contain the string or integer value. Python uses references whenever variables must store values of mutable data types, such as lists or dictionaries. For values of immutable data types such as strings, integers, or tuples, Python variables will store the value itself."
      ],
      "metadata": {
        "id": "Bb899rAKyqsu"
      }
    },
    {
      "cell_type": "markdown",
      "source": [
        "Ques 17: How do you distinguish between copy.copy() and copy.deepcopy()?\n",
        "\n",
        "Answer: The difference between shallow and deep copying is only relevant for compound objects (objects that contain other objects, like lists or class instances)\n",
        "\n",
        "A shallow copy constructs a new compound object and then (to the extent possible) inserts references into it to the objects found in the original.\n",
        "\n",
        "A deep copy constructs a new compound object and then, recursively, inserts copies into it of the objects found in the original."
      ],
      "metadata": {
        "id": "tlPOPT0sysYQ"
      }
    }
  ]
}
