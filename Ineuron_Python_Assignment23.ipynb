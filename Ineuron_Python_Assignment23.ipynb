{
  "nbformat": 4,
  "nbformat_minor": 0,
  "metadata": {
    "colab": {
      "name": "Ineuron_Python_Assignment23.ipynb",
      "provenance": [],
      "collapsed_sections": []
    },
    "kernelspec": {
      "name": "python3",
      "display_name": "Python 3"
    },
    "language_info": {
      "name": "python"
    }
  },
  "cells": [
    {
      "cell_type": "markdown",
      "metadata": {
        "id": "ER743csXaR2h"
      },
      "source": [
        "**Ineuron Python Assignment 23**"
      ]
    },
    {
      "cell_type": "markdown",
      "metadata": {
        "id": "5S7mq9gcaiEx"
      },
      "source": [
        "Ques 1. What is the result of the code, and why?\n",
        "&gt;&gt;&gt; def func(a, b=6, c=8):\n",
        "print(a, b, c)\n",
        "&gt;&gt;&gt; func(1, 2)"
      ]
    },
    {
      "cell_type": "code",
      "metadata": {
        "colab": {
          "base_uri": "https://localhost:8080/"
        },
        "id": "cPO1h8ZMaKr1",
        "outputId": "522bebe6-e1f0-40b1-ea13-f8669268a84d"
      },
      "source": [
        "def func(a, b=6, c=8):\n",
        "    print(a, b, c)\n",
        "func(1, 2)\n",
        "\n",
        "# Ans. This funtion is taking a positional argument and 2 keyward argument. When function call m=is made, parameter passed \n",
        "# are a=1,b=2. When the function is executed , parameter c=8 will be taken by default as its a keyword argument.\n",
        "# solution is = 1,2,8"
      ],
      "execution_count": 1,
      "outputs": [
        {
          "output_type": "stream",
          "name": "stdout",
          "text": [
            "1 2 8\n"
          ]
        }
      ]
    },
    {
      "cell_type": "markdown",
      "metadata": {
        "id": "P8EblAlGa0CT"
      },
      "source": [
        "Ques 2. What is the result of this code, and why?\n",
        "&gt;&gt;&gt; def func(a, b, c=5):\n",
        "print(a, b, c)\n",
        "&gt;&gt;&gt; func(1, c=3, b=2)"
      ]
    },
    {
      "cell_type": "code",
      "metadata": {
        "colab": {
          "base_uri": "https://localhost:8080/"
        },
        "id": "PblQTU8xan2R",
        "outputId": "33212304-2fa3-42cd-be84-dea8884ff4ab"
      },
      "source": [
        "def func(a, b, c=5):\n",
        "    print(a, b, c)\n",
        "func(1, c=3, b=2)\n",
        "\n",
        "# Ans. When we make function call, order will be positional argument and then keywords arguments. we can pass the keyword arguments in any order we want.\n",
        "#Solution is 1,2,3"
      ],
      "execution_count": 2,
      "outputs": [
        {
          "output_type": "stream",
          "name": "stdout",
          "text": [
            "1 2 3\n"
          ]
        }
      ]
    },
    {
      "cell_type": "markdown",
      "metadata": {
        "id": "6YCY_v6hbA3O"
      },
      "source": [
        "Ques 3. How about this code: what is its result, and why?\n",
        "&gt;&gt;&gt; def func(a, *pargs):\n",
        "print(a, pargs)\n",
        "&gt;&gt;&gt; func(1, 2, 3)"
      ]
    },
    {
      "cell_type": "code",
      "metadata": {
        "colab": {
          "base_uri": "https://localhost:8080/"
        },
        "id": "gbg93jB8a8a4",
        "outputId": "1c009dfc-9aeb-4d48-eb07-86b5aa33c05e"
      },
      "source": [
        "def func(a, *pargs):\n",
        "    print(a, pargs)\n",
        "func(1, 2, 3)\n",
        "\n",
        "# Ans.The return type of *args parameter is tuple, where as **kargs will be dictionary\n",
        "#solution is = 1,(2,3)"
      ],
      "execution_count": 3,
      "outputs": [
        {
          "output_type": "stream",
          "name": "stdout",
          "text": [
            "1 (2, 3)\n"
          ]
        }
      ]
    },
    {
      "cell_type": "markdown",
      "metadata": {
        "id": "kyLEJlVRbyUR"
      },
      "source": [
        "Ques 4. What does this code print, and why?\n",
        "&gt;&gt;&gt; def func(a, **kargs):\n",
        "print(a, kargs)\n",
        "&gt;&gt;&gt; func(a=1, c=3, b=2)"
      ]
    },
    {
      "cell_type": "code",
      "metadata": {
        "colab": {
          "base_uri": "https://localhost:8080/"
        },
        "id": "1EbHEKxabin1",
        "outputId": "a40941e9-c92c-4cbe-dbce-8193509c6c13"
      },
      "source": [
        "def func(a, **kargs):\n",
        "    print(a, kargs)\n",
        "func(a=1, c=3, b=2)\n",
        "\n",
        "#Ans. The return type of  **kargs is  dictionary\n",
        "#solution is = 1,{'c':3,'b':2}"
      ],
      "execution_count": 4,
      "outputs": [
        {
          "output_type": "stream",
          "name": "stdout",
          "text": [
            "1 {'c': 3, 'b': 2}\n"
          ]
        }
      ]
    },
    {
      "cell_type": "markdown",
      "metadata": {
        "id": "3-OobHk1b_ee"
      },
      "source": [
        "Ques 5. What gets printed by this, and explain?\n",
        "&gt;&gt;&gt; def func(a, b, c=8, d=5): print(a, b, c, d)\n",
        "&gt;&gt;&gt; func(1, *(5, 6))"
      ]
    },
    {
      "cell_type": "code",
      "metadata": {
        "colab": {
          "base_uri": "https://localhost:8080/"
        },
        "id": "LItfYNlPb1dK",
        "outputId": "5fa33571-499d-4513-e51c-32541fafe6fe"
      },
      "source": [
        "def func(a, b, c=8, d=5): \n",
        "    print(a, b, c, d)\n",
        "func(1, *(5, 6))\n",
        "\n",
        "# '*' is the unpacking operator and are operators that unpack the values from iterable objects in Python. The single \n",
        "#    asterisk operator * can be used on any iterable that Python provides, while the double asterisk operator ** can only \n",
        " #   be used on dictionaries. In the example the value *(5,6) will be unpacked and will be assigned to b and c and passed \n",
        " #   as arguments, d =5 will taken by defaults are keyword arguments.\n",
        "\n",
        "  #  Solution 1,5,6,5"
      ],
      "execution_count": null,
      "outputs": [
        {
          "output_type": "stream",
          "text": [
            "1 5 6 5\n"
          ],
          "name": "stdout"
        }
      ]
    },
    {
      "cell_type": "markdown",
      "metadata": {
        "id": "vO5IEZ36cLjZ"
      },
      "source": [
        "Ques 6. what is the result of this, and explain?\n",
        "&gt;&gt;&gt; def func(a, b, c): a = 2; b[0] = &#39;x&#39;; c[&#39;a&#39;] = &#39;y&#39;\n",
        "&gt;&gt;&gt; l=1; m=[1]; n={&#39;a&#39;:0}\n",
        "&gt;&gt;&gt; func(l, m, n)\n",
        "\n",
        "&gt;&gt;&gt; l, m, n"
      ]
    },
    {
      "cell_type": "code",
      "metadata": {
        "colab": {
          "base_uri": "https://localhost:8080/"
        },
        "id": "TZyc7gm3cCYH",
        "outputId": "331c8efc-93f6-41a7-afa5-584ad51e2eed"
      },
      "source": [
        "def func(a, b, c): \n",
        "    a = 2; b[0] = 'x'; c['a'] = 'y'\n",
        "    \n",
        "l=1; m=[1]; n={'a':0}\n",
        "func(l, m, n)\n",
        "l, m, n\n",
        "\n",
        "# Ans. Here in the code, the list and dict are passed as argument, and those are mutable. Here the list l and parameter b point \n",
        "#to the same list in the memory location where as dict n and c point to the same memory location. Any updates to this \n",
        "#list will update in the memory location\n",
        "\n",
        "#l = 1 , integer values, immutable, m is list, mutable, n is dict, mutable.\n",
        "#output will be = 1,['x'],{'a':'y'}"
      ],
      "execution_count": 5,
      "outputs": [
        {
          "output_type": "execute_result",
          "data": {
            "text/plain": [
              "(1, ['x'], {'a': 'y'})"
            ]
          },
          "metadata": {},
          "execution_count": 5
        }
      ]
    }
  ]
}