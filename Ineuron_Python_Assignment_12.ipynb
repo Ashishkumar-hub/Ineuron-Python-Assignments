{
  "nbformat": 4,
  "nbformat_minor": 0,
  "metadata": {
    "colab": {
      "name": "Ineuron_Python_Assignment_12.ipynb",
      "provenance": []
    },
    "kernelspec": {
      "name": "python3",
      "display_name": "Python 3"
    },
    "language_info": {
      "name": "python"
    }
  },
  "cells": [
    {
      "cell_type": "markdown",
      "source": [
        "**Ineuron Python Assignment 12**"
      ],
      "metadata": {
        "id": "9pIZBsgWG4fK"
      }
    },
    {
      "cell_type": "markdown",
      "source": [
        "Ques 1. In what modes should the PdfFileReader() and PdfFileWriter() File objects will be opened?\n",
        "\n",
        "Answer: PdfFileReader() needs to be opened in read-binary mode by passing 'rb' as the second argument to open(). Likewise, the File object passed to PyPDF2. PdfFileWriter() needs to be opened in write-binary mode with 'wb'."
      ],
      "metadata": {
        "id": "CYPEQHwvJuIK"
      }
    },
    {
      "cell_type": "markdown",
      "source": [
        "\n",
        "Ques 2. From a PdfFileReader object, how do you get a Page object for page 5?\n",
        "\n",
        "Answer: Calling getPage(4) will return a Page object for About this Book, since page 0 is the first page.\n",
        "######pageObj = pdfReader.getPage(4)"
      ],
      "metadata": {
        "id": "zIyqKVzaJv7I"
      }
    },
    {
      "cell_type": "markdown",
      "source": [
        "\n",
        "Ques 3. What PdfFileReader variable stores the number of pages in the PDF document?\n",
        "\n",
        "Answer: The total number of pages in the document is stored in the numPages attribute of a PdfFileReader object.  "
      ],
      "metadata": {
        "id": "Agii3ftJJxzK"
      }
    },
    {
      "cell_type": "markdown",
      "source": [
        "Ques 4. If a PdfFileReader object’s PDF is encrypted with the password swordfish, what must you do before you can obtain Page objects from it?\n",
        "\n",
        "Answer: Call decrypt('swordfish')"
      ],
      "metadata": {
        "id": "1w4imwtOKCr9"
      }
    },
    {
      "cell_type": "markdown",
      "source": [
        "\n",
        "Ques 5. What methods do you use to rotate a page?\n",
        "\n",
        "Answer: The rotateClockwise() and rotateCounterClockwise() methods. The degrees to rotate is passed as an integer argument."
      ],
      "metadata": {
        "id": "AeaYUzI6Jz5A"
      }
    },
    {
      "cell_type": "markdown",
      "source": [
        "\n",
        "Ques 6. What is the difference between a Run object and a Paragraph object?\n",
        "\n",
        "Answer: A document contains multiple paragraphs. A paragraph begins on a new line and contains multiple runs. Runs are contiguous groups of characters within a paragraph."
      ],
      "metadata": {
        "id": "zKV0MJuvJ1py"
      }
    },
    {
      "cell_type": "markdown",
      "source": [
        "\n",
        "Ques 7. How do you obtain a list of Paragraph objects for a Document object that’s stored in a variable\n",
        "named doc?\n",
        "\n",
        "Answer: Using doc.paragraphs."
      ],
      "metadata": {
        "id": "BLjm4K2LJ3Wc"
      }
    },
    {
      "cell_type": "markdown",
      "source": [
        "\n",
        "Ques 8. What type of object has bold, underline, italic, strike, and outline variables?\n",
        "\n",
        "Answer: A Run object has these variables (not a paragraph)"
      ],
      "metadata": {
        "id": "MiDGK0T0J5Q7"
      }
    },
    {
      "cell_type": "markdown",
      "source": [
        "\n",
        "Ques 9. What is the difference between False, True, and None for the bold variable?\n",
        "\n",
        "Answer: True always makes the Run object bolded and False makes it always not bolded, no matter what the style's bold setting is. None will make the Run object just use the style's bold setting."
      ],
      "metadata": {
        "id": "TVpuynJeJ7HK"
      }
    },
    {
      "cell_type": "markdown",
      "source": [
        "\n",
        "Ques 10. How do you create a Document object for a new Word document?\n",
        "\n",
        "Answer: Call the docx.Document() function."
      ],
      "metadata": {
        "id": "HyB8QBRFJ8uh"
      }
    },
    {
      "cell_type": "markdown",
      "source": [
        "\n",
        "Ques 11. How do you add a paragraph with the text &#39;Hello, there!&#39; to a Document object stored in a\n",
        "variable named doc?\n",
        "\n",
        "Answer: doc.add_paragraph('Hello there!')"
      ],
      "metadata": {
        "id": "AuxZk8cNJ-F3"
      }
    },
    {
      "cell_type": "markdown",
      "source": [
        "\n",
        "Ques 12. What integers represent the levels of headings available in Word documents?\n",
        "\n",
        "Answer: The integers 0,1,2,3, and 4"
      ],
      "metadata": {
        "id": "ed_Aex0PJ_hy"
      }
    }
  ]
}