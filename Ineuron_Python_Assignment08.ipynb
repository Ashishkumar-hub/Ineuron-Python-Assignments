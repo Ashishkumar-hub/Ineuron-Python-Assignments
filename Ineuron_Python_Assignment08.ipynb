{
  "nbformat": 4,
  "nbformat_minor": 0,
  "metadata": {
    "colab": {
      "name": "Ineuron_Python_Assignment8.ipynb",
      "provenance": []
    },
    "kernelspec": {
      "name": "python3",
      "display_name": "Python 3"
    },
    "language_info": {
      "name": "python"
    }
  },
  "cells": [
    {
      "cell_type": "markdown",
      "source": [
        "**Ineuron Python Assignment 8**"
      ],
      "metadata": {
        "id": "YOmaqpLK8Q9n"
      }
    },
    {
      "cell_type": "markdown",
      "source": [
        "Ques 1. Is the Python Standard Library included with PyInputPlus?\n",
        "\n",
        "Answer PyInputPlus is a Python module used for taking inputs with additional validation features. PyInputPlus will keep asking the user for text until they enter valid input.\n",
        "\n",
        "Installation:\n",
        "pip install PyInputPlus"
      ],
      "metadata": {
        "id": "g7o9Q2Q273oT"
      }
    },
    {
      "cell_type": "markdown",
      "source": [
        "Ques 2. Why is PyInputPlus commonly imported with import pyinputplus as pypi?\n",
        "\n",
        "Answer: We can import the module with import pyinputplus as pyip so that we can enter a shorter name when calling the module’s functions.\n",
        "\n",
        "PyInputPlus has functions for entering a variety of input, including strings, numbers, dates, yes/no, True/False, emails, and files. While input() always returns a string, these functions return the value in an appropriate data type. The inputChoice() function allows us to select one of several pre-selected options, while inputMenu() also adds numbers or letters for quick selection."
      ],
      "metadata": {
        "id": "g2x4OWPc79MG"
      }
    },
    {
      "cell_type": "markdown",
      "source": [
        "Ques 3. How do you distinguish between inputInt() and inputFloat()?\n",
        "\n",
        "Answer: inputInt() : Accepts an integer value. This also takes additional parameters ‘min’, ‘max’, ‘greaterThan’ and ‘lessThan’  for bounds. Returns an int.\n",
        "\n",
        "inputFloat() : Accepts a floating-point numeric value. Also takes additional ‘min’, ‘max’, ‘greaterThan’ and ‘lessThan’  parameters. Returns a float."
      ],
      "metadata": {
        "id": "DMt0lWnZ8OGG"
      }
    },
    {
      "cell_type": "markdown",
      "source": [
        "\n",
        "Ques 4. Using PyInputPlus, how do you ensure that the user enters a whole number between 0 and 99?\n",
        "\n",
        "Answer: "
      ],
      "metadata": {
        "id": "YPN3Gxj18DYd"
      }
    },
    {
      "cell_type": "code",
      "source": [
        "pip install pyinputplus"
      ],
      "metadata": {
        "colab": {
          "base_uri": "https://localhost:8080/"
        },
        "id": "tm511RjtBvhE",
        "outputId": "9a3d80de-248f-4a76-da18-eebf949e1984"
      },
      "execution_count": 4,
      "outputs": [
        {
          "output_type": "stream",
          "name": "stdout",
          "text": [
            "Collecting pyinputplus\n",
            "  Downloading PyInputPlus-0.2.12.tar.gz (20 kB)\n",
            "  Installing build dependencies ... \u001b[?25l\u001b[?25hdone\n",
            "  Getting requirements to build wheel ... \u001b[?25l\u001b[?25hdone\n",
            "    Preparing wheel metadata ... \u001b[?25l\u001b[?25hdone\n",
            "Collecting stdiomask>=0.0.3\n",
            "  Downloading stdiomask-0.0.6.tar.gz (3.6 kB)\n",
            "  Installing build dependencies ... \u001b[?25l\u001b[?25hdone\n",
            "  Getting requirements to build wheel ... \u001b[?25l\u001b[?25hdone\n",
            "    Preparing wheel metadata ... \u001b[?25l\u001b[?25hdone\n",
            "Collecting pysimplevalidate>=0.2.7\n",
            "  Downloading PySimpleValidate-0.2.12.tar.gz (22 kB)\n",
            "  Installing build dependencies ... \u001b[?25l\u001b[?25hdone\n",
            "  Getting requirements to build wheel ... \u001b[?25l\u001b[?25hdone\n",
            "    Preparing wheel metadata ... \u001b[?25l\u001b[?25hdone\n",
            "Building wheels for collected packages: pyinputplus, pysimplevalidate, stdiomask\n",
            "  Building wheel for pyinputplus (PEP 517) ... \u001b[?25l\u001b[?25hdone\n",
            "  Created wheel for pyinputplus: filename=PyInputPlus-0.2.12-py3-none-any.whl size=11315 sha256=26345d658030a478d5592affaf22623dc91845a032e20baa55b1b7ef2344fead\n",
            "  Stored in directory: /root/.cache/pip/wheels/e7/33/73/719f8f1bd984d39face880fd22f6c5ef1b85f726e84c687094\n",
            "  Building wheel for pysimplevalidate (PEP 517) ... \u001b[?25l\u001b[?25hdone\n",
            "  Created wheel for pysimplevalidate: filename=PySimpleValidate-0.2.12-py3-none-any.whl size=16193 sha256=8edec0eecd0680aa52214bf880bc1f79cf24622079b3405111c9fdec8582dba5\n",
            "  Stored in directory: /root/.cache/pip/wheels/5a/8b/6c/2925d22b93860bdc9b8ce02c3d2cf79336606f7469cef66065\n",
            "  Building wheel for stdiomask (PEP 517) ... \u001b[?25l\u001b[?25hdone\n",
            "  Created wheel for stdiomask: filename=stdiomask-0.0.6-py3-none-any.whl size=3321 sha256=4c86054a979acb2f85f92513d699de1bbae540cbad1e0fe39a39873869c68116\n",
            "  Stored in directory: /root/.cache/pip/wheels/cf/13/89/64d0d3b167759523f4c1e68f883bbc30e7bfa27050edeb418e\n",
            "Successfully built pyinputplus pysimplevalidate stdiomask\n",
            "Installing collected packages: stdiomask, pysimplevalidate, pyinputplus\n",
            "Successfully installed pyinputplus-0.2.12 pysimplevalidate-0.2.12 stdiomask-0.0.6\n"
          ]
        }
      ]
    },
    {
      "cell_type": "code",
      "source": [
        "import pyinputplus as pyip\n",
        "\n",
        "inp = pyip.inputNum(prompt='', default=0, greaterThan=0, lessThan=100)\n",
        "  \n",
        "print(inp)"
      ],
      "metadata": {
        "colab": {
          "base_uri": "https://localhost:8080/"
        },
        "id": "Cj-4f-HZ_1mq",
        "outputId": "3628eb7d-5ce0-4bfd-dda9-69d2c26a3fc6"
      },
      "execution_count": 7,
      "outputs": [
        {
          "output_type": "stream",
          "name": "stdout",
          "text": [
            "444\n",
            "Number must be less than 100.\n",
            "100\n",
            "Number must be less than 100.\n",
            "99\n",
            "99\n"
          ]
        }
      ]
    },
    {
      "cell_type": "markdown",
      "source": [
        "\n",
        "Ques 5. What is transferred to the keyword arguments allowRegexes and blockRegexes?\n",
        "\n",
        "Answer: def inputNum(prompt='', default=None, blank=False, timeout=None, limit=None, strip=None, ***allowRegexes=None, blockRegexes=None***, applyFunc=None, postValidateApplyFunc=None, min=None, max=None, greaterThan=None, lessThan=None)\n",
        "\n",
        "Certain inputs can be blocked (that is, these values are invalidated) by setting the blockRegexes parameter’s value as the regex pattern we want to invalidate viceversa for allowRegexes."
      ],
      "metadata": {
        "id": "sXzdeLs-8E0t"
      }
    },
    {
      "cell_type": "code",
      "source": [
        "import pyinputplus as pyip\n",
        "inp = pyip.inputStr(prompt=\"Enter a string... \",\n",
        "\t\t\t\t\tblank=True, blockRegexes = 'aeiou') #strung with vowels will be invalidated\n",
        "\n",
        "print(inp)"
      ],
      "metadata": {
        "colab": {
          "base_uri": "https://localhost:8080/"
        },
        "id": "SFaUHD1YDMUL",
        "outputId": "73089a4f-e878-43a4-d4b4-4c39356aa33a"
      },
      "execution_count": 8,
      "outputs": [
        {
          "output_type": "stream",
          "name": "stdout",
          "text": [
            "Enter a string... ashish\n",
            "This response is invalid.\n",
            "Enter a string... asdfgh\n",
            "This response is invalid.\n",
            "Enter a string... ash\n",
            "This response is invalid.\n",
            "Enter a string... plm\n",
            "plm\n"
          ]
        }
      ]
    },
    {
      "cell_type": "markdown",
      "source": [
        "Ques 6. If a blank input is entered three times, what does inputStr(limit=3) do?\n",
        "\n",
        "Answer: inputStr() raises a TimeoutException exception. If the user answers incorrectly more than 3 times, it raises a RetryLimitException exception."
      ],
      "metadata": {
        "id": "zFfrNyDl8Gtt"
      }
    },
    {
      "cell_type": "markdown",
      "source": [
        "Ques 7. If blank input is entered three times, what does inputStr(limit=3, default=&#39;hello&#39;) do?\n",
        "\n",
        "Answer: If the user answers incorrectly more than 3 times, then default value Hello will be printed."
      ],
      "metadata": {
        "id": "ClB52qmZ8ImU"
      }
    },
    {
      "cell_type": "code",
      "source": [
        "import pyinputplus as pyip\n",
        "inp = pyip.inputStr(limit=3, default='hello') #strung with vowels will be invalidated\n",
        "\n",
        "print(inp)"
      ],
      "metadata": {
        "colab": {
          "base_uri": "https://localhost:8080/"
        },
        "id": "TSy-Tt83UTm4",
        "outputId": "1dcb19ad-6409-401c-bf2b-4a42d10484eb"
      },
      "execution_count": 13,
      "outputs": [
        {
          "output_type": "stream",
          "name": "stdout",
          "text": [
            " \n",
            "Blank values are not allowed.\n",
            " \n",
            "Blank values are not allowed.\n",
            " \n",
            "Blank values are not allowed.\n",
            "hello\n"
          ]
        }
      ]
    }
  ]
}
