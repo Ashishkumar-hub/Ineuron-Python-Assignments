{
  "nbformat": 4,
  "nbformat_minor": 0,
  "metadata": {
    "colab": {
      "name": "Ineuron_Python_Assignment_14.ipynb",
      "provenance": []
    },
    "kernelspec": {
      "name": "python3",
      "display_name": "Python 3"
    },
    "language_info": {
      "name": "python"
    }
  },
  "cells": [
    {
      "cell_type": "markdown",
      "source": [
        "Ineuron Python Assignment 14"
      ],
      "metadata": {
        "id": "TF22BsEZn8Tc"
      }
    },
    {
      "cell_type": "markdown",
      "source": [
        "Ques 1. What does RGBA stand for?\n",
        "\n",
        "Answer: An RGBA value is a tuple of 4 integers, each ranging from 0 to 255. The four integers correspond to the amount of red, green, blue, and alpha (transparency) in the color."
      ],
      "metadata": {
        "id": "yHa3cIsSnsUM"
      }
    },
    {
      "cell_type": "markdown",
      "source": [
        "Ques 2. From the Pillow module, how do you get the RGBA value of any images?\n",
        "\n",
        "Answer: A function call to ImageColor.getcolor('CornflowerBlue', 'RGBA') will return (100, 149, 237, 255), the RGBA value for that color."
      ],
      "metadata": {
        "id": "1HvtT-nTnu9e"
      }
    },
    {
      "cell_type": "markdown",
      "source": [
        "Ques 3. What is a box tuple, and how does it work?\n",
        "\n",
        "Answer: A box tuple is a tuple value of four integers: the left edge x-coordinate, the top edge y-coordinate, the width, and the height, respectively."
      ],
      "metadata": {
        "id": "QKb98_AjnwwH"
      }
    },
    {
      "cell_type": "markdown",
      "source": [
        "Ques 4. Use your image and load in notebook then, How can you find out the width and height of an Image object?\n",
        "\n",
        "Answer: ImageObj.size is a tuple of two integers, the width and the height. after loading the image with open() we can use that to find the width and height. "
      ],
      "metadata": {
        "id": "szCeAb_Hnykz"
      }
    },
    {
      "cell_type": "markdown",
      "source": [
        "Ques 5. What method would you call to get Image object for a 100×100 image, excluding the lower-left quarter of it?\n",
        "\n",
        "Answer: We can call the imageObj.save('new_filename.png') method of the Image object."
      ],
      "metadata": {
        "id": "cT1DofKOn0U6"
      }
    },
    {
      "cell_type": "markdown",
      "source": [
        "Ques 6. After making changes to an Image object, how could you save it as an image file?\n",
        "\n",
        "Answer: The ImageDraw module contains code to draw on image."
      ],
      "metadata": {
        "id": "6_Xud9-mn2FL"
      }
    },
    {
      "cell_type": "markdown",
      "source": [
        "\n",
        "Ques 7. What module contains Pillow’s shape-drawing code?\n",
        "\n",
        "Answer: ImageDraw objects have shape-drawing methods such as point(), line(), or rectangle(). They are returned by passing the Image object to the ImageDraw.Draw() function."
      ],
      "metadata": {
        "id": "sgWegptzn3rj"
      }
    },
    {
      "cell_type": "markdown",
      "source": [
        "Ques 8. Image objects do not have drawing methods. What kind of object does? How do you get this kind of object?\n",
        "\n",
        "Answer: wand.drawing module provides us with some very basic drawing functions. wand.drawing.Drawing object buffers instructions for drawing shapes into images, and then it can draw these shapes into zero or more images. We can also use the shape module for it. "
      ],
      "metadata": {
        "id": "3QXPGyATn5Jw"
      }
    }
  ]
}