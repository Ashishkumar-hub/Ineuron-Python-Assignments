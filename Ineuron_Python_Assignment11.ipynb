{
  "nbformat": 4,
  "nbformat_minor": 0,
  "metadata": {
    "colab": {
      "name": "Ineuron_Python_Assignment11.ipynb",
      "provenance": []
    },
    "kernelspec": {
      "name": "python3",
      "display_name": "Python 3"
    },
    "language_info": {
      "name": "python"
    }
  },
  "cells": [
    {
      "cell_type": "markdown",
      "source": [
        "Ques 1. Create an assert statement that throws an AssertionError if the variable spam is a negative integer.\n",
        "\n",
        "Answer: "
      ],
      "metadata": {
        "id": "yAuN3PXX6lXJ"
      }
    },
    {
      "cell_type": "code",
      "source": [
        "spam  = int(input(\"Enter Value:\"))\n",
        "assert spam >= 0 \n",
        "if spam <= 0:\n",
        "  print(\"Negative Integer\")\n",
        "else:\n",
        "  print(\"ok\")"
      ],
      "metadata": {
        "colab": {
          "base_uri": "https://localhost:8080/"
        },
        "id": "DXgshsNt8_aJ",
        "outputId": "cc185894-90a3-40be-d68d-1684e2449ab3"
      },
      "execution_count": 9,
      "outputs": [
        {
          "output_type": "stream",
          "name": "stdout",
          "text": [
            "Enter Value:33\n",
            "ok\n"
          ]
        }
      ]
    },
    {
      "cell_type": "code",
      "source": [
        "spam  = int(input(\"Enter Value:\"))\n",
        "assert spam >= 0 \n",
        "if spam <= 0:\n",
        "  print(\"Negative Integer\")\n",
        "else:\n",
        "  print(\"ok\")"
      ],
      "metadata": {
        "colab": {
          "base_uri": "https://localhost:8080/",
          "height": 252
        },
        "id": "71gR19T58Hgs",
        "outputId": "031c056e-e63b-48b6-c7be-e76e3d396977"
      },
      "execution_count": 8,
      "outputs": [
        {
          "name": "stdout",
          "output_type": "stream",
          "text": [
            "Enter Value:-2\n"
          ]
        },
        {
          "output_type": "error",
          "ename": "AssertionError",
          "evalue": "ignored",
          "traceback": [
            "\u001b[0;31m---------------------------------------------------------------------------\u001b[0m",
            "\u001b[0;31mAssertionError\u001b[0m                            Traceback (most recent call last)",
            "\u001b[0;32m<ipython-input-8-f9df09ad1066>\u001b[0m in \u001b[0;36m<module>\u001b[0;34m()\u001b[0m\n\u001b[1;32m      1\u001b[0m \u001b[0mspam\u001b[0m  \u001b[0;34m=\u001b[0m \u001b[0mint\u001b[0m\u001b[0;34m(\u001b[0m\u001b[0minput\u001b[0m\u001b[0;34m(\u001b[0m\u001b[0;34m\"Enter Value:\"\u001b[0m\u001b[0;34m)\u001b[0m\u001b[0;34m)\u001b[0m\u001b[0;34m\u001b[0m\u001b[0;34m\u001b[0m\u001b[0m\n\u001b[0;32m----> 2\u001b[0;31m \u001b[0;32massert\u001b[0m \u001b[0mspam\u001b[0m \u001b[0;34m>=\u001b[0m \u001b[0;36m0\u001b[0m\u001b[0;34m\u001b[0m\u001b[0;34m\u001b[0m\u001b[0m\n\u001b[0m\u001b[1;32m      3\u001b[0m \u001b[0;32mif\u001b[0m \u001b[0mspam\u001b[0m \u001b[0;34m<=\u001b[0m \u001b[0;36m0\u001b[0m\u001b[0;34m:\u001b[0m\u001b[0;34m\u001b[0m\u001b[0;34m\u001b[0m\u001b[0m\n\u001b[1;32m      4\u001b[0m   \u001b[0mprint\u001b[0m\u001b[0;34m(\u001b[0m\u001b[0;34m\"Negative Integer\"\u001b[0m\u001b[0;34m)\u001b[0m\u001b[0;34m\u001b[0m\u001b[0;34m\u001b[0m\u001b[0m\n\u001b[1;32m      5\u001b[0m \u001b[0;32melse\u001b[0m\u001b[0;34m:\u001b[0m\u001b[0;34m\u001b[0m\u001b[0;34m\u001b[0m\u001b[0m\n",
            "\u001b[0;31mAssertionError\u001b[0m: "
          ]
        }
      ]
    },
    {
      "cell_type": "markdown",
      "source": [
        "Ques 2. Write an assert statement that triggers an AssertionError if the variables eggs and bacon contain\n",
        "strings that are the same as each other, even if their cases are different (that is, &#39;hello&#39; and &#39;hello&#39; are\n",
        "considered the same, and &#39;goodbye&#39; and &#39;GOODbye&#39; are also considered the same).\n",
        "\n",
        "Answer: assert eggs.lower() != bacon.lower(), 'The eggs and bacon variables are the same!' or assert eggs.upper() != bacon.upper(), 'The eggs and bacon variables are the same!'"
      ],
      "metadata": {
        "id": "_Vv9jPZW686s"
      }
    },
    {
      "cell_type": "markdown",
      "source": [
        "Ques 3. Create an assert statement that throws an AssertionError every time.\n",
        "\n",
        "Answer: assert False, 'This assertion always triggers.'"
      ],
      "metadata": {
        "id": "wKaUqHaV6qga"
      }
    },
    {
      "cell_type": "markdown",
      "source": [
        "Ques 4. What are the two lines that must be present in your software in order to call logging.debug()?\n",
        "\n",
        "Answer: To be able to call logging.debug(), you must have these two lines at the start of your program:\n",
        "\n",
        "import logging\n",
        "logging.basicConfig(level=logging.DEBUG, format=' %(asctime)s -\n",
        "%(levelname)s - %(message)s')"
      ],
      "metadata": {
        "id": "CiBzW1As6smQ"
      }
    },
    {
      "cell_type": "markdown",
      "source": [
        "\n",
        "Ques 5. What are the two lines that your program must have in order to have logging.debug() send a\n",
        "logging message to a file named programLog.txt?\n",
        "\n",
        "Answer: To be able to send logging messages to a file named programLog.txt with logging.debug(), you must have these two lines at the start of your program:\n",
        "\n",
        "import logging\n",
        "\n",
        "logging.basicConfig(filename='programLog.txt', level=logging.DEBUG,\n",
        "format=' %(asctime)s - %(levelname)s - %(message)s')"
      ],
      "metadata": {
        "id": "WTbp_6te6uMb"
      }
    },
    {
      "cell_type": "markdown",
      "source": [
        "Ques 6. What are the five levels of logging?\n",
        "\n",
        "Answer: DEBUG, INFO, WARNING, ERROR, and CRITICAL"
      ],
      "metadata": {
        "id": "9wt0Ad1m6wXg"
      }
    },
    {
      "cell_type": "markdown",
      "source": [
        "\n",
        "Ques 7. What line of code would you add to your software to disable all logging messages?\n",
        "\n",
        "Answer: logging.disable(logging.CRITICAL)"
      ],
      "metadata": {
        "id": "Nk732tp26xvp"
      }
    },
    {
      "cell_type": "markdown",
      "source": [
        "\n",
        "Ques 8. Why is using logging messages better than using print() to display the same message?\n",
        "\n",
        "Answer: We can disable logging messages without removing the logging function calls. We can selectively disable lower-level logging messages. We can create logging messages. Logging messages provides a timestamp."
      ],
      "metadata": {
        "id": "U2xvzVPH6zEZ"
      }
    },
    {
      "cell_type": "markdown",
      "source": [
        "\n",
        "Ques 9. What are the differences between the Step Over, Step In, and Step Out buttons in the debugger?\n",
        "\n",
        "Answer: The Step button will move the debugger into a function call. The Over button will quickly execute the function call without stepping into it. The Out button will quickly execute the rest of the code until it steps out of the function it currently is in."
      ],
      "metadata": {
        "id": "_nLU7-xm60SL"
      }
    },
    {
      "cell_type": "markdown",
      "source": [
        "\n",
        "Ques 10. After you click Continue, when will the debugger stop ?\n",
        "\n",
        "Answer: Continuing means resuming program execution until your program completes normally. it will only stop when it reaches a breakpoint.  "
      ],
      "metadata": {
        "id": "CJ7TNxqP61dU"
      }
    },
    {
      "cell_type": "markdown",
      "source": [
        "Ques 11. What is the concept of a breakpoint?\n",
        "\n",
        "Answer: A breakpoint is a setting on a line of code that causes the debugger to pause when the program execution reaches the line."
      ],
      "metadata": {
        "id": "U_meX-eK63b_"
      }
    }
  ]
}