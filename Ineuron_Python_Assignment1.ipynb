{
  "nbformat": 4,
  "nbformat_minor": 0,
  "metadata": {
    "colab": {
      "name": "Ineuron_Python_Assignment1.ipynb",
      "provenance": []
    },
    "kernelspec": {
      "name": "python3",
      "display_name": "Python 3"
    },
    "language_info": {
      "name": "python"
    }
  },
  "cells": [
    {
      "cell_type": "markdown",
      "source": [
        "Ineuron Python FSDS Assignment 1 "
      ],
      "metadata": {
        "id": "0Fj5isnngkhp"
      }
    },
    {
      "cell_type": "markdown",
      "source": [
        "1. In the below elements which of them are values or an expression? \n",
        "eg:- values can be integer or string and expressions will be mathematical operators.\n",
        "\n",
        "Answer: \n",
        "\n",
        "#####* = mathematical operator\n",
        "#####'hello' = string\n",
        "#####-87.8 = float \n",
        "#####- = mathematical operator\n",
        "#####/ = mathematical operator\n",
        "#####+ = mathematical operator\n",
        "#####6 = integer\n"
      ],
      "metadata": {
        "id": "7rwtF079VzhE"
      }
    },
    {
      "cell_type": "markdown",
      "source": [
        "2. What is the difference between string and variable?\n",
        "\n",
        "Answer: \n",
        "\n",
        "Variables: A variable is an identifier which is used to store a value in a memory location and to manipulate it if needed.\n",
        "\n",
        "Example: x = 10 \n",
        "         y = 20 \n",
        "\n",
        "Strings: Anything assigned to a variable using quotes (single or double) will be considered as a string.\n",
        "\n",
        "Example: a = \"1\" \n",
        "         b = \"2\" \n",
        "         print(a+b)  \n",
        "         output: '12' "
      ],
      "metadata": {
        "id": "0jo-RC23V5Xn"
      }
    },
    {
      "cell_type": "markdown",
      "source": [
        "3. Describe three different data types.\n",
        "\n",
        "Answer: Variables can store data of different types, and different types can do different things.\n",
        "\n",
        "* Numeric type = integer : a = 6 type(a) output: int \n",
        "OR float : a = 6.3 type(a) output: float\n",
        "\n",
        "* Text type = string : a = \"6.3\" type(a) output: string\n",
        "\n",
        "* Sequence type = list: a = [\"apple\", \"banana\", \"cherry\"] output: ['apple', 'banana', 'cherry']"
      ],
      "metadata": {
        "id": "U-MoUujdWrEG"
      }
    },
    {
      "cell_type": "markdown",
      "source": [
        "4. What is an expression made up of? What do all expressions do?\n",
        "\n",
        "Answer: An expression is a combination of values, variables, operators, and calls to functions. Expressions need to be evaluated. If we ask Python to print an expression, the interpreter evaluates the expression and displays the result.\n",
        "\n"
      ],
      "metadata": {
        "id": "dCWx5MkDYvPt"
      }
    },
    {
      "cell_type": "markdown",
      "source": [
        "5. This assignment statements, like spam = 10. What is the difference between an\n",
        "expression and a statement?\n",
        "\n",
        "Answer:\n",
        "\n",
        "An Expression always evaluates to a value whereas a statement does something, like creating a variable or displaying a value, it only does whatever the statement says.\n",
        "Example: spam = 10 is a statement it is allocating the value 10 ti varible spam"
      ],
      "metadata": {
        "id": "zPaAbbW7ZekZ"
      }
    },
    {
      "cell_type": "markdown",
      "source": [
        "6. After running the following code, what does the variable bacon contain?\n",
        "bacon = 22\n",
        "bacon + 1\n",
        "\n",
        "Answer: "
      ],
      "metadata": {
        "id": "BjpjGUzqanVj"
      }
    },
    {
      "cell_type": "code",
      "source": [
        "bacon = 22 \n",
        "bacon + 1"
      ],
      "metadata": {
        "colab": {
          "base_uri": "https://localhost:8080/"
        },
        "id": "TbMsaxZZRn9x",
        "outputId": "69a68f0a-e7ce-4a23-8fb8-c38fd7c7a339"
      },
      "execution_count": 24,
      "outputs": [
        {
          "output_type": "execute_result",
          "data": {
            "text/plain": [
              "23"
            ]
          },
          "metadata": {},
          "execution_count": 24
        }
      ]
    },
    {
      "cell_type": "code",
      "source": [
        "print(bacon)"
      ],
      "metadata": {
        "id": "jMKoQuNWVBPG",
        "outputId": "f9bdf121-fe44-4f5e-ad39-2fbdb3c25e73",
        "colab": {
          "base_uri": "https://localhost:8080/"
        }
      },
      "execution_count": 21,
      "outputs": [
        {
          "output_type": "stream",
          "name": "stdout",
          "text": [
            "22\n"
          ]
        }
      ]
    },
    {
      "cell_type": "markdown",
      "source": [
        "In the above code the value was increased to 23 as we added 1 to the pre-existing bacon value  but the original alue of bacon will still be 22"
      ],
      "metadata": {
        "id": "iqzHUAMpa0eV"
      }
    },
    {
      "cell_type": "markdown",
      "source": [
        "7. What should the values of the following two terms be?\n",
        "\n",
        "'spam' + 'spamspam'\n",
        "\n",
        "'spam'*3\n",
        "\n",
        "Output:"
      ],
      "metadata": {
        "id": "6S4qSnnXbi-g"
      }
    },
    {
      "cell_type": "code",
      "source": [
        "'spam' + 'spamspam'"
      ],
      "metadata": {
        "id": "xcEl1YUVVB8x",
        "outputId": "96ecfe93-072a-4e64-9f3d-0a3a6a3827c7",
        "colab": {
          "base_uri": "https://localhost:8080/",
          "height": 35
        }
      },
      "execution_count": 27,
      "outputs": [
        {
          "output_type": "execute_result",
          "data": {
            "application/vnd.google.colaboratory.intrinsic+json": {
              "type": "string"
            },
            "text/plain": [
              "'spamspamspam'"
            ]
          },
          "metadata": {},
          "execution_count": 27
        }
      ]
    },
    {
      "cell_type": "code",
      "source": [
        "'spam'*3 #in both the conditions the output will remain same spam will be printed three times"
      ],
      "metadata": {
        "id": "Vlc2kyppbLOF",
        "outputId": "4c1a8f51-99c9-4db5-cec4-d3cac1e93347",
        "colab": {
          "base_uri": "https://localhost:8080/",
          "height": 35
        }
      },
      "execution_count": 29,
      "outputs": [
        {
          "output_type": "execute_result",
          "data": {
            "application/vnd.google.colaboratory.intrinsic+json": {
              "type": "string"
            },
            "text/plain": [
              "'spamspamspam'"
            ]
          },
          "metadata": {},
          "execution_count": 29
        }
      ]
    },
    {
      "cell_type": "markdown",
      "source": [
        "8. Why is eggs a valid variable name while 100 is invalid?\n",
        "\n",
        "Answer: \n",
        "In python there are cerrtain varble rules that are needed to be followed. A variable can have a short name (like x and y) or a more descriptive name (age, carname, total_volume).\n",
        "A variable name must start with a letter or the underscore character\n",
        "A variable name cannot start with a number\n",
        "A variable name can only contain alpha-numeric characters and underscores (A-z, 0-9, and _ )\n",
        "Variable names are case-sensitive (age, Age and AGE are three different variables)\n",
        "\n",
        "Thus, eggs being written in form of letters or characters is valid while 100 being an interger is not valid."
      ],
      "metadata": {
        "id": "bn0w4e6ncaUq"
      }
    },
    {
      "cell_type": "markdown",
      "source": [
        "9. What three functions can be used to get the integer, floating-point number, or string version of a value?\n",
        "\n",
        "Answer: the threee functions are int(), float(), str()"
      ],
      "metadata": {
        "id": "yleZugyDdoaV"
      }
    },
    {
      "cell_type": "code",
      "source": [
        "a = int(5)\n",
        "print(type(a))\n",
        "b = float(5.5)\n",
        "print(type(b))\n",
        "c = str(\"5ashish\")\n",
        "print(type(c))"
      ],
      "metadata": {
        "id": "mgI3hyVhcD8F",
        "outputId": "7e3bacee-e791-4b11-d24d-f8dba169c2ba",
        "colab": {
          "base_uri": "https://localhost:8080/"
        }
      },
      "execution_count": 50,
      "outputs": [
        {
          "output_type": "stream",
          "name": "stdout",
          "text": [
            "<class 'int'>\n",
            "<class 'float'>\n",
            "<class 'str'>\n"
          ]
        }
      ]
    },
    {
      "cell_type": "markdown",
      "source": [
        "10. Why does this expression cause an error? How can you fix it?\n",
        "'I have eaten' + 99 + 'burritos'\n",
        "\n",
        "Answer: Because we can only concatenate str (not \"int\") to str. we can typecast like below to convert int to string. "
      ],
      "metadata": {
        "id": "sEECqlfLfXHS"
      }
    },
    {
      "cell_type": "code",
      "source": [
        "'I have eaten '  + str(\"99\") + ' burritos'"
      ],
      "metadata": {
        "id": "TFobIeRhd8YB",
        "outputId": "b3f6b6e1-9ac0-4435-d25b-4f7a1730f710",
        "colab": {
          "base_uri": "https://localhost:8080/",
          "height": 35
        }
      },
      "execution_count": 57,
      "outputs": [
        {
          "output_type": "execute_result",
          "data": {
            "application/vnd.google.colaboratory.intrinsic+json": {
              "type": "string"
            },
            "text/plain": [
              "'I have eaten 99 burritos'"
            ]
          },
          "metadata": {},
          "execution_count": 57
        }
      ]
    },
    {
      "cell_type": "code",
      "source": [
        ""
      ],
      "metadata": {
        "id": "SiTLZHFKgGE5"
      },
      "execution_count": null,
      "outputs": []
    }
  ]
}