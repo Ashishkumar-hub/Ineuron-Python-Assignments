{
  "nbformat": 4,
  "nbformat_minor": 0,
  "metadata": {
    "colab": {
      "name": "Ineuron_Python_Assignment7.ipynb",
      "provenance": [],
      "collapsed_sections": []
    },
    "kernelspec": {
      "name": "python3",
      "display_name": "Python 3"
    },
    "language_info": {
      "name": "python"
    }
  },
  "cells": [
    {
      "cell_type": "markdown",
      "source": [
        "1. What is the name of the feature responsible for generating Regex objects?\n",
        "\n",
        "Answer: The re.compile() function returns Regex objects."
      ],
      "metadata": {
        "id": "-Wdr07Ct20W-"
      }
    },
    {
      "cell_type": "markdown",
      "source": [
        "2. Why do raw strings often appear in Regex objects?\n",
        "\n",
        "Answer: Raw strings are used so that backslashes do not have to be escaped."
      ],
      "metadata": {
        "id": "QmEq7W4g23U9"
      }
    },
    {
      "cell_type": "markdown",
      "source": [
        "3. What is the return value of the search() method?\n",
        "\n",
        "Answer: The search() method returns Match objects."
      ],
      "metadata": {
        "id": "5URs6n3Q24_Z"
      }
    },
    {
      "cell_type": "markdown",
      "source": [
        "4. From a Match item, how do you get the actual strings that match the pattern?\n",
        "\n",
        "Answer: The group() method returns strings of the matched text."
      ],
      "metadata": {
        "id": "GLaVBJWW26rj"
      }
    },
    {
      "cell_type": "markdown",
      "source": [
        "5. In the regex which created from the r&#39;(\\d\\d\\d)-(\\d\\d\\d-\\d\\d\\d\\d)&#39;, what does group zero cover?\n",
        "Group 2? Group 1?\n",
        "\n",
        "Answer: Group 0 is the entire match, group 1 covers the first set of parentheses, and group 2 covers the second set of parentheses."
      ],
      "metadata": {
        "id": "aYcLqDYm28jx"
      }
    },
    {
      "cell_type": "markdown",
      "source": [
        "6. In standard expression syntax, parentheses and intervals have distinct meanings. How can you tell\n",
        "a regex that you want it to fit real parentheses and periods?\n",
        "\n",
        "Answer: "
      ],
      "metadata": {
        "id": "sbRvzotV2-kz"
      }
    },
    {
      "cell_type": "code",
      "source": [
        "# Periods and parentheses can be escaped with a backslash: \\., \\(, and \\)."
      ],
      "metadata": {
        "id": "H6Gii_LM45lG"
      },
      "execution_count": null,
      "outputs": []
    },
    {
      "cell_type": "markdown",
      "source": [
        "7. The findall() method returns a string list or a list of string tuples. What causes it to return one of\n",
        "the two options?\n",
        "\n",
        "Answer: If the regex has no groups, a list of strings is returned. If the regex has groups, a list of tuples of strings is returned."
      ],
      "metadata": {
        "id": "8PgGuYY13ArW"
      }
    },
    {
      "cell_type": "markdown",
      "source": [
        "8. In standard expressions, what does the | character mean?\n",
        "\n",
        "Answer: The | character signifies matching \"either, or\" between two groups."
      ],
      "metadata": {
        "id": "CgTJyAek3Cbx"
      }
    },
    {
      "cell_type": "markdown",
      "source": [
        "9. In regular expressions, what does the character stand for?\n",
        "\n",
        "Answer: The ? character can either mean \"match zero or one of the preceding group\" or be used to signify nongreedy matching."
      ],
      "metadata": {
        "id": "K1gov8U03EZI"
      }
    },
    {
      "cell_type": "markdown",
      "source": [
        "10. In regular expressions, what is the difference between the + and * characters?\n",
        "\n",
        "Answer: The + matches one or more. The * matches zero or more."
      ],
      "metadata": {
        "id": "gpbnmWuO35U6"
      }
    },
    {
      "cell_type": "markdown",
      "source": [
        "11. What is the difference between {4} and {4,5} in regular expression?\n",
        "\n",
        "Answer: The {4} matches exactly four instances of the preceding group. The {4,5} matches between four and five instances."
      ],
      "metadata": {
        "id": "hSPbThQc3GlS"
      }
    },
    {
      "cell_type": "markdown",
      "source": [
        "12. What do you mean by the \\d, \\w, and \\s shorthand character classes signify in regular expressions?\n",
        "\n",
        "Answer: \\d returns a match where the string contains digits (numbers from 0-9)\n",
        "\n",
        "\\w returns a match where the string contains any word characters (characters from a to Z, digits from 0-9, and the underscore _ character)\n",
        "\n",
        "\\s returns a match where the string contains a white space character "
      ],
      "metadata": {
        "id": "NSra8gvn3IeO"
      }
    },
    {
      "cell_type": "code",
      "source": [
        "import re\n",
        "text = \"My name is ashish\"\n",
        "x = re.findall(\"\\d\", text)\n",
        "print(x)\n",
        "if x:\n",
        "  print(\"Yes, there is at least one match!\")\n",
        "else:\n",
        "  print(\"No match\")\n"
      ],
      "metadata": {
        "colab": {
          "base_uri": "https://localhost:8080/"
        },
        "id": "jFnpEs5nMLjE",
        "outputId": "4a237e49-28d7-4b61-cf1b-f4c924d16f7c"
      },
      "execution_count": 5,
      "outputs": [
        {
          "output_type": "stream",
          "name": "stdout",
          "text": [
            "[]\n",
            "No match\n"
          ]
        }
      ]
    },
    {
      "cell_type": "code",
      "source": [
        "import re\n",
        "text = \"My name is ashish\"\n",
        "x = re.findall(\"\\w\", text)\n",
        "print(x)\n",
        "if x:\n",
        "  print(\"Yes, there is at least one match!\")\n",
        "else:\n",
        "  print(\"No match\")\n"
      ],
      "metadata": {
        "colab": {
          "base_uri": "https://localhost:8080/"
        },
        "id": "wiSIzubRMd3G",
        "outputId": "f772b7e2-dce3-42c7-a76c-5fe1074bcd3d"
      },
      "execution_count": 6,
      "outputs": [
        {
          "output_type": "stream",
          "name": "stdout",
          "text": [
            "['M', 'y', 'n', 'a', 'm', 'e', 'i', 's', 'a', 's', 'h', 'i', 's', 'h']\n",
            "Yes, there is at least one match!\n"
          ]
        }
      ]
    },
    {
      "cell_type": "code",
      "source": [
        "import re\n",
        "text = \"My name is ashish\"\n",
        "x = re.findall(\"\\s\", text)\n",
        "print(x)\n",
        "if x:\n",
        "  print(\"Yes, there is at least one match!\")\n",
        "else:\n",
        "  print(\"No match\")\n"
      ],
      "metadata": {
        "colab": {
          "base_uri": "https://localhost:8080/"
        },
        "id": "-VqQC-ibMpwH",
        "outputId": "c4d481c6-2755-4d58-fb1c-5b627d549353"
      },
      "execution_count": 7,
      "outputs": [
        {
          "output_type": "stream",
          "name": "stdout",
          "text": [
            "[' ', ' ', ' ']\n",
            "Yes, there is at least one match!\n"
          ]
        }
      ]
    },
    {
      "cell_type": "markdown",
      "source": [
        "13. What do means by \\D, \\W, and \\S shorthand character classes signify in regular expressions?\n",
        "\n",
        "Answer : \\D returns a match where the string DOES NOT contain digits\n",
        "\n",
        "\\W returns a match where the string DOES NOT contain any word characters\n",
        "\n",
        "\\S returns a match where the string DOES NOT contain a white space character"
      ],
      "metadata": {
        "id": "5CHAFB4M3KSi"
      }
    },
    {
      "cell_type": "markdown",
      "source": [
        "14. What is the difference between .*? and .*?"
      ],
      "metadata": {
        "id": "FEP_qA7W3OB6"
      }
    },
    {
      "cell_type": "code",
      "source": [
        "# 14. What is the difference between .*? and .*?\n",
        "\n",
        "#Answer: .*? this will check 0 or 1 occurances of any character while .* checks 0 or more  occurances of any characters. In this scenario\n",
        "#.* will be implemented and check for  0 or more  occurances of any characters. examples are mentioned below "
      ],
      "metadata": {
        "id": "lgWoKLFyPazz"
      },
      "execution_count": null,
      "outputs": []
    },
    {
      "cell_type": "code",
      "source": [
        "import re\n",
        "txt = \"hello ashish\"\n",
        "#Search for a sequence that starts with \"he\", followed by 0 or more  (any) characters, and an \"o\":\n",
        "x = re.findall(\"he.*o\", txt)\n",
        "print(x)"
      ],
      "metadata": {
        "colab": {
          "base_uri": "https://localhost:8080/"
        },
        "id": "xIfKoqlKOaxv",
        "outputId": "f35a0415-825a-4e8d-e833-aa53da876edc"
      },
      "execution_count": 20,
      "outputs": [
        {
          "output_type": "stream",
          "name": "stdout",
          "text": [
            "['hello']\n"
          ]
        }
      ]
    },
    {
      "cell_type": "code",
      "source": [
        "import re\n",
        "txt = \"hello ashish\"\n",
        "#Search for a sequence that starts with \"he\", followed by 0 or 1  (any) character, and an \"o\":\n",
        "x = re.findall(\"he.?o\", txt)\n",
        "print(x)\n",
        "#This time we got no match, because there were not zero, not one, but two characters between \"he\" and the \"o\""
      ],
      "metadata": {
        "colab": {
          "base_uri": "https://localhost:8080/"
        },
        "id": "_pCSL59MOW_L",
        "outputId": "548ba642-fd81-4bbb-ab72-58d8f0997a4d"
      },
      "execution_count": 19,
      "outputs": [
        {
          "output_type": "stream",
          "name": "stdout",
          "text": [
            "[]\n"
          ]
        }
      ]
    },
    {
      "cell_type": "markdown",
      "source": [
        "15. What is the syntax for matching both numbers and lowercase letters with a character class?\n",
        "\n",
        "Answer: "
      ],
      "metadata": {
        "id": "PMVo4yKR3Pmk"
      }
    },
    {
      "cell_type": "code",
      "source": [
        "import re\n",
        "txt = \"my name is ashish 12350\"\n",
        "#Check if the string has any characters between a and z:\n",
        "x = re.findall(\"[a-z,0-9]\", txt)\n",
        "print(x)\n",
        "if x:\n",
        "  print(\"Yes, there is at least one match!\")\n",
        "else:\n",
        "  print(\"No match\")\n"
      ],
      "metadata": {
        "colab": {
          "base_uri": "https://localhost:8080/"
        },
        "id": "gpo45VCyTOzf",
        "outputId": "6383e68d-5667-4d3d-fcfd-593dc528dbf1"
      },
      "execution_count": 34,
      "outputs": [
        {
          "output_type": "stream",
          "name": "stdout",
          "text": [
            "['m', 'y', 'n', 'a', 'm', 'e', 'i', 's', 'a', 's', 'h', 'i', 's', 'h', '1', '2', '3', '5', '0']\n",
            "Yes, there is at least one match!\n"
          ]
        }
      ]
    },
    {
      "cell_type": "markdown",
      "source": [
        "16. What is the procedure for making a normal expression in regax case insensitive?\n",
        "\n",
        "Answer: How do you make a regular expression case-insensitive in Python?\n",
        "IGNORECASE : This flag allows for case-insensitive matching of the Regular Expression with the given string i.e. expressions like [A-Z] will match lowercase letters, too. Generally, It's passed as an optional argument to re. compile() ."
      ],
      "metadata": {
        "id": "TztR8ztl3TdM"
      }
    },
    {
      "cell_type": "code",
      "source": [
        "import re\n",
        "txt = \"My name is ashish 12350\"\n",
        "#Check if the string has any characters between a and z:\n",
        "x = re.findall(\"[A-Z,a-z,0-9]\", txt, re.IGNORECASE)\n",
        "print(x)\n",
        "if x:\n",
        "  print(\"Yes, there is at least one match!\")\n",
        "else:\n",
        "  print(\"No match\")\n"
      ],
      "metadata": {
        "colab": {
          "base_uri": "https://localhost:8080/"
        },
        "id": "tiCpPtdLVhHM",
        "outputId": "bc0edc67-3621-4e59-f32a-da765a06e970"
      },
      "execution_count": 37,
      "outputs": [
        {
          "output_type": "stream",
          "name": "stdout",
          "text": [
            "['M', 'y', 'n', 'a', 'm', 'e', 'i', 's', 'a', 's', 'h', 'i', 's', 'h', '1', '2', '3', '5', '0']\n",
            "Yes, there is at least one match!\n"
          ]
        }
      ]
    },
    {
      "cell_type": "markdown",
      "source": [
        "17. What does the . character normally match? What does it match if re.DOTALL is passed as 2nd argument in re.compile()?\n",
        "\n",
        "Answer: If re. DOTALL is passed as the second argument to re. compile(), then the dot will also match newline characters."
      ],
      "metadata": {
        "id": "ExxObaNQ3WPR"
      }
    },
    {
      "cell_type": "markdown",
      "source": [
        "18. If numReg = re.compile(r&#39;\\d+&#39;), what will numRegex.sub(&#39;X&#39;, &#39;11 drummers, 10 pipers, five rings, 4 hen&#39;) return?\n",
        "\n",
        "Answer: numRegex.sub('X', '11 drummers, 10 pipers, five rings, 4 hen') will relace one or many mathes of \"X\" with \"11 drummers, 10 pipers, five rings, 4 hen\""
      ],
      "metadata": {
        "id": "NMVxCrQG3X3Z"
      }
    },
    {
      "cell_type": "markdown",
      "source": [
        "19. What does passing re.VERBOSE as the 2nd argument to re.compile() allow to do?\n",
        "\n",
        "Answer: re.VERBOSE flag allows us to write regular expressions that look nicer and are more readable by allowing us to visually separate logical sections of the pattern and add comments.\n",
        "\n",
        "\n",
        "Whitespace within the pattern is ignored, except when in a character class, or when preceded by an unescaped backslash, or within tokens like *?, (?: or (?P. When a line contains a # that is not in a character class and is not preceded by an unescaped backslash, all characters from the leftmost such # through the end of the line are ignored."
      ],
      "metadata": {
        "id": "apYCT9KM3ZVv"
      }
    },
    {
      "cell_type": "code",
      "source": [
        "import re\n",
        "def validate_email(email):\n",
        "\t# RegexObject = re.compile( Regular expression, flag )\n",
        "\t# Compiles a regular expression pattern into a regular expression object\n",
        "\tregex_email=re.compile(r\"\"\"\n",
        "\t\t\t\t\t\t^([a-z0-9_\\.-]+)\t\t\t\t # local Part\n",
        "\t\t\t\t\t\t@\t\t\t\t\t\t\t           # single @ sign\n",
        "\t\t\t\t\t\t\t([0-9a-z\\.-]+)\t\t\t\t # Domain name\n",
        "\t\t\t\t\t\t\\.\t\t\t\t\t\t\t         # single Dot .\n",
        "\t\t\t\t\t\t\t([a-z]{2,6})$\t\t\t\t   # Top level Domain\t\n",
        "\t\t\t\t\t\t\"\"\",re.VERBOSE | re.IGNORECASE)\n",
        "\n",
        "\t# RegexObject is matched with the desired string using fullmatch function\n",
        "\t# In case a match is found, search() returns a MatchObject Instance\n",
        "\tres=regex_email.fullmatch(email)\n",
        "\t#If match is found, the string is valid\n",
        "\tif res:\n",
        "\t\tprint(\"{} is Valid. Details are as follow:\".format(email))\n",
        "\t\t#prints first part/personal detail of Email Id\n",
        "\t\tprint(\"Local:{}\".format(res.group(1)))\t\n",
        "\t\t#prints Domain Name of Email Id\n",
        "\t\tprint(\"Domain:{}\".format(res.group(2)))\t\n",
        "\t\t#prints Top Level Domain Name of Email Id\n",
        "\t\tprint(\"Top Level domain:{}\".format(res.group(3)))\n",
        "\t\tprint()\t\t\n",
        "\telse:\n",
        "\t\t#If match is not found,string is invalid\n",
        "\t\tprint(\"{} is Invalid\".format(email))\n",
        "# Driver Code\n",
        "validate_email(\"singh.ashish.kr96@gmail.com\")\n",
        "validate_email(\"ashishkumar123@yahoo.com@\")\n",
        "validate_email(\"ashish@.com\")\n"
      ],
      "metadata": {
        "colab": {
          "base_uri": "https://localhost:8080/"
        },
        "id": "Us6ErHmw_Abv",
        "outputId": "2124f1b4-57ad-4316-9883-4e0bf6445f22"
      },
      "execution_count": 7,
      "outputs": [
        {
          "output_type": "stream",
          "name": "stdout",
          "text": [
            "singh.ashish.kr96@gmail.com is Valid. Details are as follow:\n",
            "Local:singh.ashish.kr96\n",
            "Domain:gmail\n",
            "Top Level domain:com\n",
            "\n",
            "ashishkumar123@yahoo.com@ is Invalid\n",
            "ashish@.com is Invalid\n"
          ]
        }
      ]
    },
    {
      "cell_type": "markdown",
      "source": [
        "20. How would you write a regex that match a number with comma for every three digits? It must\n",
        "match the given following:\n",
        "\n",
        "&#39;42&#39;\n",
        "\n",
        "&#39;1,234&#39;\n",
        "\n",
        "&#39;6,368,745&#39;\n",
        "\n",
        "but not the following:\n",
        "\n",
        "&#39;12,34,567&#39; (which has only two digits between the commas)\n",
        "\n",
        "&#39;1234&#39; (which lacks commas)\n",
        "\n",
        "Answer:"
      ],
      "metadata": {
        "id": "crYfYnKxLZOt"
      }
    },
    {
      "cell_type": "code",
      "source": [
        "#https://regex101.com/r/65nMlq/2/\n",
        "import re\n",
        "txt = input(\"Enter the input values:\")\n",
        "x = re.findall(\"^((?:\\d{1,3},(?:\\d{3},)*\\d{3})|(?:\\d{1,3}))$\", txt)\n",
        "print(x)\n",
        "if x:\n",
        "  print(\"Yes, there is at least one match!\")\n",
        "else:\n",
        "  print(\"No match\")"
      ],
      "metadata": {
        "colab": {
          "base_uri": "https://localhost:8080/"
        },
        "id": "B1xxPxDVRURh",
        "outputId": "e813b27d-98b6-4706-e3d0-033842284b9e"
      },
      "execution_count": 25,
      "outputs": [
        {
          "output_type": "stream",
          "name": "stdout",
          "text": [
            "Enter the input values:6,368,745\n",
            "['6,368,745']\n",
            "Yes, there is at least one match!\n"
          ]
        }
      ]
    },
    {
      "cell_type": "markdown",
      "source": [
        "21. How would you write a regex that matches the full name of someone whose last name is\n",
        "Watanabe? You can assume that the first name that comes before it will always be one word that begins with a capital letter. The regex must match the following:\n",
        "\n",
        "&#39;Haruto Watanabe&#39;\n",
        "\n",
        "&#39;Alice Watanabe&#39;\n",
        "\n",
        "&#39;RoboCop Watanabe&#39;\n",
        "\n",
        "but not the following:\n",
        "\n",
        "&#39;haruto Watanabe&#39; (where the first name is not capitalized)\n",
        "\n",
        "&#39;Mr. Watanabe&#39; (where the preceding word has a nonletter character)\n",
        "\n",
        "&#39;Watanabe&#39; (which has no first name)\n",
        "\n",
        "&#39;Haruto watanabe&#39; (where Watanabe is not capitalized)"
      ],
      "metadata": {
        "id": "GeObYkvum1-a"
      }
    },
    {
      "cell_type": "code",
      "source": [
        "import re\n",
        "name_regex = re.compile(r'[A-Z](?:\\w)+\\sWatanabe')\n",
        "text = \"The regex must match the following: 'Haruto Watanabe' 'Alice Watanabe' 'RoboCop Watanabe' but not the following: 'haruto Watanabe' (where the first name is not capitalized) 'Mr. Watanabe' (where the preceding word has a nonletter character) 'Watanabe'(which has no first name) 'Haruto watanabe'.\"\n",
        "mo0 = name_regex.search(text)\n",
        "found = mo0.group()\n",
        "print(found + '\\n\\n')\n",
        "mo1 = name_regex.search('Haruto Watanabe')\n",
        "mo2 = name_regex.search('Alice Watanabe')\n",
        "mo3 = name_regex.search('RoboCop Watanabe')\n",
        "mo4 = name_regex.search('Watanabe')\n",
        "mo5 = name_regex.search('Mr. Watanabe')\n",
        "mo6 = name_regex.search('Haruto watanabe')\n",
        "mo7 = name_regex.search('haruto watanabe')\n",
        "mo_l = [mo1, mo2, mo3, mo4, mo5, mo6, mo7]\n",
        "print(\"Next, the result of using my regex with search over each possible name to match:\")\n",
        "try:\n",
        "    for mo_x in mo_l:\n",
        "        mo = mo_x.group()\n",
        "        print(mo)\n",
        "except AttributeError:\n",
        "    pass\n",
        "print(\"\\nFinally, the result of using the same regex with findall (same text as in first search):\")\n",
        "all_matches = re.findall(name_regex, text)\n",
        "for match in all_matches:\n",
        "    print(match)"
      ],
      "metadata": {
        "colab": {
          "base_uri": "https://localhost:8080/"
        },
        "id": "A3sEcEZImGpj",
        "outputId": "371355db-a291-4ae8-b979-156f4b512c20"
      },
      "execution_count": 34,
      "outputs": [
        {
          "output_type": "stream",
          "name": "stdout",
          "text": [
            "Haruto Watanabe\n",
            "\n",
            "\n",
            "Next, the result of using my regex with search over each possible name to match:\n",
            "Haruto Watanabe\n",
            "Alice Watanabe\n",
            "RoboCop Watanabe\n",
            "\n",
            "Finally, the result of using the same regex with findall (same text as in first search):\n",
            "Haruto Watanabe\n",
            "Alice Watanabe\n",
            "RoboCop Watanabe\n"
          ]
        }
      ]
    },
    {
      "cell_type": "markdown",
      "source": [
        "22. How would you write a regex that matches a sentence where the first word is either Alice, Bob,\n",
        "or Carol; the second word is either eats, pets, or throws; the third word is apples, cats, or baseballs;\n",
        "and the sentence ends with a period? This regex should be case-insensitive. It must match the\n",
        "following:\n",
        "\n",
        "&#39;Alice eats apples.&#39;\n",
        "\n",
        "&#39;Bob pets cats.&#39;\n",
        "\n",
        "&#39;Carol throws baseballs.&#39;\n",
        "\n",
        "&#39;Alice throws Apples.&#39;\n",
        "\n",
        "&#39;BOB EATS CATS.&#39;\n",
        "\n",
        "but not the following:\n",
        "\n",
        "&#39;RoboCop eats apples.&#39;\n",
        "\n",
        "&#39;ALICE THROWS FOOTBALLS.&#39;\n",
        "\n",
        "&#39;Carol eats 7 cats.&#39;"
      ],
      "metadata": {
        "id": "xgu_pX4WtVx4"
      }
    },
    {
      "cell_type": "code",
      "source": [
        "import re\n",
        "name_regex = re.compile(r'(Alice|Bob|Carol)\\s(eats|pets|throws)\\s(apples|cats|baseballs)\\.', re.IGNORECASE)\n",
        "text = \"The regex must match the following: It must match the following: 'Alice eats apples.' 'Bob pets cats.' 'Carol throws baseballs.' 'Alice throws Apples.' 'BOB EATS CATS.' but not the following: 'RoboCop eats apples.' 'ALICE THROWS FOOTBALLS.' 'Carol eats 7 cats.'\"\n",
        "mo0 = name_regex.search(text)\n",
        "found = mo0.group()\n",
        "print(found + '\\n\\n')\n",
        "mo1 = name_regex.search('Alice eats apples')\n",
        "mo2 = name_regex.search('Bob pets cats')\n",
        "mo3 = name_regex.search('Carol throws baseballs')\n",
        "mo4 = name_regex.search('Alice throws Apples')\n",
        "mo5 = name_regex.search('BOB EATS CATS')\n",
        "mo6 = name_regex.search('RoboCop eats apples')\n",
        "mo7 = name_regex.search('ALICE THROWS FOOTBALLS')\n",
        "mo8 = name_regex.search('Carol eats 7 cats')\n",
        "\n",
        "mo_l = [mo1, mo2, mo3, mo4, mo5, mo6, mo7, mo8]\n",
        "print(\"The result of using my regex with search over each possible match:\")\n",
        "try:\n",
        "    for mo_x in mo_l:\n",
        "        mo = mo_x.group()\n",
        "        print(mo)\n",
        "except AttributeError:\n",
        "    pass\n",
        "all_matches = re.findall(name_regex, text)\n",
        "for match in all_matches:\n",
        "    print(match)"
      ],
      "metadata": {
        "colab": {
          "base_uri": "https://localhost:8080/"
        },
        "id": "gc4PiG4cprd5",
        "outputId": "1f07d129-7be4-4171-a231-8ab96231ac8e"
      },
      "execution_count": 39,
      "outputs": [
        {
          "output_type": "stream",
          "name": "stdout",
          "text": [
            "Alice eats apples.\n",
            "\n",
            "\n",
            "The result of using my regex with search over each possible match:\n",
            "('Alice', 'eats', 'apples')\n",
            "('Bob', 'pets', 'cats')\n",
            "('Carol', 'throws', 'baseballs')\n",
            "('Alice', 'throws', 'Apples')\n",
            "('BOB', 'EATS', 'CATS')\n"
          ]
        }
      ]
    }
  ]
}
