{
  "nbformat": 4,
  "nbformat_minor": 0,
  "metadata": {
    "colab": {
      "name": "Ineuron_Python_Assignment_13.ipynb",
      "provenance": []
    },
    "kernelspec": {
      "name": "python3",
      "display_name": "Python 3"
    },
    "language_info": {
      "name": "python"
    }
  },
  "cells": [
    {
      "cell_type": "markdown",
      "source": [
        "**Ineuron Python Assignment 13**"
      ],
      "metadata": {
        "id": "u4f7LIARSWUF"
      }
    },
    {
      "cell_type": "markdown",
      "source": [
        "Ques 1. What advantages do Excel spreadsheets have over CSV spreadsheets?\n",
        "\n",
        "Answer: In Excel, spreadsheets can have values of data types other than strings; cells can have different fonts, sizes, or color settings; cells can have varying widths and heights; adjacent cells can be merged; and we can embed images and charts."
      ],
      "metadata": {
        "id": "_cM1_gylRDCO"
      }
    },
    {
      "cell_type": "markdown",
      "source": [
        "Ques 2. What do you pass to csv.reader() and csv.writer() to create reader and writer objects?\n",
        "\n",
        "Answer: We can pass a File object, obtained from a call to open()."
      ],
      "metadata": {
        "id": "C4JzBJD1RG8o"
      }
    },
    {
      "cell_type": "markdown",
      "source": [
        "Ques 3. What modes do File objects for reader and writer objects need to be opened in?\n",
        "\n",
        "Answer: File objects need to be opened in read-binary ('rb') for Reader objects and write-binary ('wb') for Writer objects."
      ],
      "metadata": {
        "id": "keOY99TFRIku"
      }
    },
    {
      "cell_type": "markdown",
      "source": [
        "\n",
        "Ques 4. What method takes a list argument and writes it to a CSV file?\n",
        "\n",
        "Answer: The writerow() method"
      ],
      "metadata": {
        "id": "IDZfMzklRJ_C"
      }
    },
    {
      "cell_type": "markdown",
      "source": [
        "Ques 5. What do the keyword arguments delimiter and line terminator do?\n",
        "\n",
        "Answer: The delimiter argument changes the string used to separate cells in a row. The lineterminator argument changes the string used to separate rows."
      ],
      "metadata": {
        "id": "343dGXDfRLgh"
      }
    },
    {
      "cell_type": "markdown",
      "source": [
        "Ques 6. What function takes a string of JSON data and returns a Python data structure?\n",
        "\n",
        "Answer: json.loads()"
      ],
      "metadata": {
        "id": "giaFWWpgRM8Z"
      }
    },
    {
      "cell_type": "markdown",
      "source": [
        "Ques 7. What function takes a Python data structure and returns a string of JSON data?\n",
        "\n",
        "Answer: json.dumps()"
      ],
      "metadata": {
        "id": "xKg2SDQFROcn"
      }
    }
  ]
}
