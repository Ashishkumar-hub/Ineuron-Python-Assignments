{
  "nbformat": 4,
  "nbformat_minor": 0,
  "metadata": {
    "colab": {
      "name": "Ineuron_Python_Assignment5.ipynb",
      "provenance": []
    },
    "kernelspec": {
      "name": "python3",
      "display_name": "Python 3"
    },
    "language_info": {
      "name": "python"
    }
  },
  "cells": [
    {
      "cell_type": "markdown",
      "source": [
        "Ineuron Python Assignment 5"
      ],
      "metadata": {
        "id": "-ECT4iwnV2fO"
      }
    },
    {
      "cell_type": "markdown",
      "source": [
        "Ques 1. What does an empty dictionary&#39;s code look like?\n"
      ],
      "metadata": {
        "id": "t47D-KtXV_nL"
      }
    },
    {
      "cell_type": "code",
      "source": [
        "dictt = {}\n",
        "type(dictt)"
      ],
      "metadata": {
        "colab": {
          "base_uri": "https://localhost:8080/"
        },
        "id": "KkZJO6QuXtUR",
        "outputId": "2f815012-3f24-45d1-b582-47c8e1603a8f"
      },
      "execution_count": 6,
      "outputs": [
        {
          "output_type": "execute_result",
          "data": {
            "text/plain": [
              "dict"
            ]
          },
          "metadata": {},
          "execution_count": 6
        }
      ]
    },
    {
      "cell_type": "markdown",
      "source": [
        "Ques 2. What is the value of a dictionary value with the key &#39;foo&#39; and the value 42?"
      ],
      "metadata": {
        "id": "yVAxRLDJWCGE"
      }
    },
    {
      "cell_type": "code",
      "source": [
        "dictt = {'foo': 42}\n",
        "dictt"
      ],
      "metadata": {
        "colab": {
          "base_uri": "https://localhost:8080/"
        },
        "id": "7R5rd331YZnH",
        "outputId": "a430f30b-5e2f-41d7-942f-2bc1568e92c9"
      },
      "execution_count": 13,
      "outputs": [
        {
          "output_type": "execute_result",
          "data": {
            "text/plain": [
              "{'foo': 42}"
            ]
          },
          "metadata": {},
          "execution_count": 13
        }
      ]
    },
    {
      "cell_type": "markdown",
      "source": [
        "Ques 3. What is the most significant distinction between a dictionary and a list?\n",
        "\n",
        "Answer: The items stored in a dictionary are unordered, while the items in a list are ordered."
      ],
      "metadata": {
        "id": "Rqy3SsJMWEdl"
      }
    },
    {
      "cell_type": "markdown",
      "source": [
        "Ques 4. What happens if you try to access spam[&#39;foo&#39;] if spam is {&#39;bar&#39;: 100}?\n",
        "\n",
        "Answer: It will shoe KeyError. The Python KeyError is a type of LookupError exception and denotes that there was an issue retrieving the key you were looking for. When you see a KeyError , the semantic meaning is that the key being looked for could not be found."
      ],
      "metadata": {
        "id": "ZUdta2SDWGtF"
      }
    },
    {
      "cell_type": "markdown",
      "source": [
        "\n",
        "Ques 5. If a dictionary is stored in spam, what is the difference between the expressions &#39;cat&#39; in spam and\n",
        "&#39;cat&#39; in spam.keys()?\n",
        "\n",
        "Answer: There is no difference. The in operator checks whether a value exists as a key in the dictionary."
      ],
      "metadata": {
        "id": "J60uLOa-WIxV"
      }
    },
    {
      "cell_type": "markdown",
      "source": [
        "Ques 6. If a dictionary is stored in spam, what is the difference between the expressions &#39;cat&#39; in spam and\n",
        "&#39;cat&#39; in spam.values()?\n",
        "\n",
        "Answer: 'cat' in spam checks whether there is a 'cat' key in the dictionary, while 'cat' in spam.values() checks whether there is a value 'cat' for one of the keys in spam."
      ],
      "metadata": {
        "id": "57GmgjosWK26"
      }
    },
    {
      "cell_type": "markdown",
      "source": [
        "Ques 7. What is a shortcut for the following code?\n",
        "if &#39;color&#39; not in spam:\n",
        "spam[&#39;color&#39;] = &#39;black&#39;\n",
        "\n",
        "Answer: spam.setdefault('color', 'black')"
      ],
      "metadata": {
        "id": "q4kFQnPAWMtl"
      }
    },
    {
      "cell_type": "markdown",
      "source": [
        "\n",
        "Ques 8. How do you &quot;pretty print&quot; dictionary values using which module and function?\n",
        "\n",
        "Answer: pprint.pprint(), pprint is a native Python library that allows us to customize the formatting of our output. "
      ],
      "metadata": {
        "id": "DZTKhDZRWOFE"
      }
    },
    {
      "cell_type": "code",
      "source": [
        "import pprint\n",
        "stuff = ['spam', 'eggs', 'lumberjack', 'knights', 'ni']\n",
        "stuff.insert(0, stuff)\n",
        "pprint.pprint(stuff)"
      ],
      "metadata": {
        "colab": {
          "base_uri": "https://localhost:8080/",
          "height": 140
        },
        "id": "iGCkuiTEaTKB",
        "outputId": "ca85474b-ade1-49be-dd32-8ce93105ac41"
      },
      "execution_count": 12,
      "outputs": [
        {
          "output_type": "stream",
          "name": "stdout",
          "text": [
            "[<Recursion on list with id=140142810050960>,\n",
            " 'spam',\n",
            " 'eggs',\n",
            " 'lumberjack',\n",
            " 'knights',\n",
            " 'ni']\n"
          ]
        },
        {
          "output_type": "execute_result",
          "data": {
            "application/vnd.google.colaboratory.intrinsic+json": {
              "type": "string"
            },
            "text/plain": [
              "'spam'"
            ]
          },
          "metadata": {},
          "execution_count": 12
        }
      ]
    }
  ]
}
