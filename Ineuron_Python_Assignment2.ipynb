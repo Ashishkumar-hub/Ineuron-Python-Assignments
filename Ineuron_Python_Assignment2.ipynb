{
  "nbformat": 4,
  "nbformat_minor": 0,
  "metadata": {
    "colab": {
      "name": "Ineuron_Python_Assignment2.ipynb",
      "provenance": []
    },
    "kernelspec": {
      "name": "python3",
      "display_name": "Python 3"
    },
    "language_info": {
      "name": "python"
    }
  },
  "cells": [
    {
      "cell_type": "markdown",
      "source": [
        "**Ineuron Python Assignment 2**"
      ],
      "metadata": {
        "id": "FfXAAu_5C3VW"
      }
    },
    {
      "cell_type": "markdown",
      "source": [
        "Ques 1: What are the two values of the Boolean data type? How do you write them?\n",
        "\n",
        "Answer: \n",
        "\n",
        "Python boolean type is one of the built-in data types provided by Python, which represents one of the two values i.e. True or False. Generally, it is used to represent the truth values of the expressions.\n",
        "\n",
        "Example: var1 = 0\n",
        "print(bool(var1))\n",
        " \n",
        "var2 = 1\n",
        "print(bool(var2))\n",
        "\n",
        "Output: \n",
        "\n",
        "False\n",
        "\n",
        "True"
      ],
      "metadata": {
        "id": "nhTM9koOyuPQ"
      }
    },
    {
      "cell_type": "markdown",
      "source": [
        "Ques 2: What are the three different types of Boolean operators?\n",
        "\n",
        "Answer:\n",
        "There are three logical operators that are used to compare values. They evaluate expressions down to Boolean values, returning either True or False. These operators are and, or, and not.\n",
        "\n",
        "print((9 > 7) and (2 < 4))  # Both original expressions are True\n",
        "print((8 == 8) or (6 != 6)) # One original expression is True\n",
        "print(not(3 <= 1))          # The original expression is False\n",
        "\n",
        "Output:\n",
        "\n",
        "True\n",
        "\n",
        "True\n",
        "\n",
        "True"
      ],
      "metadata": {
        "id": "USfwoyNdzxDL"
      }
    },
    {
      "cell_type": "markdown",
      "source": [
        "Ques 3: Make a list of each Boolean operator's truth tables (i.e. every possible combination of Boolean values for the operator and what it evaluate ).\n",
        "\n",
        "Answer: "
      ],
      "metadata": {
        "id": "8zeRHHzc0iTZ"
      }
    },
    {
      "cell_type": "code",
      "execution_count": 6,
      "metadata": {
        "colab": {
          "base_uri": "https://localhost:8080/"
        },
        "id": "srSsmsJIylAl",
        "outputId": "9d5dab99-9a91-47a2-bd5d-a2194e125237"
      },
      "outputs": [
        {
          "output_type": "stream",
          "name": "stdout",
          "text": [
            "[False, True, True, True]\n",
            "[False, False, False, True]\n"
          ]
        }
      ],
      "source": [
        "l1 =[False or False, False or True, True or False, True or True]\n",
        "print(l1)\n",
        "l2 =[False and False, False and True, True and False, True and True]\n",
        "print(l2)"
      ]
    },
    {
      "cell_type": "markdown",
      "source": [
        "Ques 4: What are the values of the following expressions?\n",
        "\n",
        "(5 > 4) and (3 == 5)\n",
        "\n",
        "not (5 > 4)\n",
        "\n",
        "(5 > 4) or (3 == 5)\n",
        "\n",
        "not ((5 > 4) or (3 == 5))\n",
        "\n",
        "(True and True) and (True == False)\n",
        "\n",
        "(not False) or (not True)\n",
        "\n",
        "Answer: \n",
        "\n"
      ],
      "metadata": {
        "id": "jc-D5Qax2sqC"
      }
    },
    {
      "cell_type": "code",
      "source": [
        "a = (5 > 4) and (3 == 5)\n",
        "b = not (5 > 4)\n",
        "c = (5 > 4) or (3 == 5)\n",
        "d = not ((5 > 4) or (3 == 5))\n",
        "e = (True and True) and (True == False)\n",
        "f = (not False) or (not True)\n",
        "print(a,b,c,d,e,f)"
      ],
      "metadata": {
        "colab": {
          "base_uri": "https://localhost:8080/"
        },
        "id": "hmwry-cW1oY7",
        "outputId": "49fe2599-1d5a-4372-fdac-2d84962241d6"
      },
      "execution_count": 8,
      "outputs": [
        {
          "output_type": "stream",
          "name": "stdout",
          "text": [
            "False False True False False True\n"
          ]
        }
      ]
    },
    {
      "cell_type": "markdown",
      "source": [
        "Ques 5: What are the six comparison operators?\n",
        "\n",
        "Answer:\n",
        "\n",
        "3<5 True (Less then)\n",
        "\n",
        "3>5 False (Greater then)\n",
        "\n",
        "3<=5 True (Less then equal too)\n",
        "\n",
        "3>=5 False (Greater then equal too)\n",
        "\n",
        "3==5 False (equal too equal too)\n",
        "\n",
        "3!=5 True (Not equal too)\n"
      ],
      "metadata": {
        "id": "KXdYZAnN3rQI"
      }
    },
    {
      "cell_type": "markdown",
      "source": [
        "Ques 6: How do you tell the difference between the equal to and assignment operators?Describe a condition and when you would use one.\n",
        "\n",
        "Answers: \n",
        "\n",
        "The “=” is an assignment operator is used to assign the value on the right to the variable on the left.\n",
        "Example: \n",
        "\n",
        "a = 1\n",
        "\n",
        "b = 2\n",
        "\n",
        "The ‘==’ operator checks whether the two given operands are equal or not. If so, it returns true. Otherwise it returns false.\n",
        "\n",
        "Example: 5==5\n",
        "Output: True"
      ],
      "metadata": {
        "id": "QH6pzNkq5YRs"
      }
    },
    {
      "cell_type": "markdown",
      "source": [
        "7. Identify the three blocks in this code:\n",
        "\n",
        "spam = 0\n",
        "\n",
        "if spam == 10:\n",
        "\n",
        "print(eggs)\n",
        "\n",
        "if spam > 5:\n",
        "\n",
        "print(bacon)\n",
        "\n",
        "else:\n",
        "\n",
        "print(ham)\n",
        "\n",
        "print(spam)\n",
        "\n",
        "print(spam)\n",
        "\n",
        "Answer: "
      ],
      "metadata": {
        "id": "E8W2AFMq6IsG"
      }
    },
    {
      "cell_type": "code",
      "source": [
        "spam = 0\n",
        "if spam == 10: #BLOCK 1 : 1st if condition\n",
        "  print('eggs')\n",
        "elif spam > 5: #BLOCK 2 : elif or if condition\n",
        "  print('bacon')\n",
        "else: #BLOCK 3 : else condition\n",
        "  print('ham')\n",
        "  print('spam')\n",
        "  print('spam')\n",
        "  #in this case the else cindition is true"
      ],
      "metadata": {
        "colab": {
          "base_uri": "https://localhost:8080/"
        },
        "id": "VIf74afI4bYZ",
        "outputId": "3ac242a2-dcb7-4cd6-fa1d-ca11eb7298eb"
      },
      "execution_count": 15,
      "outputs": [
        {
          "output_type": "stream",
          "name": "stdout",
          "text": [
            "ham\n",
            "spam\n",
            "spam\n"
          ]
        }
      ]
    },
    {
      "cell_type": "markdown",
      "source": [
        "Ques 8: Write code that prints Hello if 1 is stored in spam, prints Howdy if 2 is stored in spam, and prints Greetings! if anything else is stored in spam."
      ],
      "metadata": {
        "id": "sXEbatuI7UWB"
      }
    },
    {
      "cell_type": "code",
      "source": [
        "spam = int(input(\"Enter Input value as intergers:\"))\n",
        "if spam ==1:\n",
        "  print(\"Hello\")\n",
        "elif spam == 2:\n",
        "  print(\"howdy\")\n",
        "else:\n",
        "  print(\"greetings\")"
      ],
      "metadata": {
        "colab": {
          "base_uri": "https://localhost:8080/"
        },
        "id": "NSxSYWQ76wTg",
        "outputId": "fcc68b63-f295-438e-ebc2-58f2a183c3b6"
      },
      "execution_count": 23,
      "outputs": [
        {
          "output_type": "stream",
          "name": "stdout",
          "text": [
            "Enter Input value as intergers:4\n",
            "greetings\n"
          ]
        }
      ]
    },
    {
      "cell_type": "markdown",
      "source": [
        "Ques 9: If your programme is stuck in an endless loop, what keys you’ll press?\n",
        "\n",
        "Answer: CTRL + C"
      ],
      "metadata": {
        "id": "E8Leg5Op8eNv"
      }
    },
    {
      "cell_type": "markdown",
      "source": [
        "Ques 10: How can you tell the difference between break and continue?\n",
        "\n",
        "Answer: The main difference between break and continue statement is that when break keyword is encountered, it will exit the loop.\n",
        "\n",
        "In case of continue keyword, the current iteration that is running will be stopped, and it will proceed with the next iteration."
      ],
      "metadata": {
        "id": "2bWoSxMs9KeU"
      }
    },
    {
      "cell_type": "markdown",
      "source": [
        "Ques 11: In a for loop, what is the difference between range(10), range(0, 10), and range(0, 10, 1)?\n",
        "\n",
        "Answer: range(10), range(0, 10), and range(0, 10, 1) all three are same."
      ],
      "metadata": {
        "id": "NsSGQtVn_n4I"
      }
    },
    {
      "cell_type": "markdown",
      "source": [
        "12. Write a short program that prints the numbers 1 to 10 using a for loop. Then write an equivalent program that prints the numbers 1 to 10 using a while loop."
      ],
      "metadata": {
        "id": "Vyl84wzQAUth"
      }
    },
    {
      "cell_type": "code",
      "source": [
        "for i in range(1,11):\n",
        "  print(i)\n",
        "  i = i+1"
      ],
      "metadata": {
        "colab": {
          "base_uri": "https://localhost:8080/"
        },
        "id": "7qsWwKBn9wsG",
        "outputId": "c85fa086-5096-43de-d66b-7a6e3dcf3655"
      },
      "execution_count": 46,
      "outputs": [
        {
          "output_type": "stream",
          "name": "stdout",
          "text": [
            "1\n",
            "2\n",
            "3\n",
            "4\n",
            "5\n",
            "6\n",
            "7\n",
            "8\n",
            "9\n",
            "10\n"
          ]
        }
      ]
    },
    {
      "cell_type": "code",
      "source": [
        "i = 1\n",
        "while i <=10:\n",
        "  print(i)\n",
        "  i =i+1"
      ],
      "metadata": {
        "colab": {
          "base_uri": "https://localhost:8080/"
        },
        "id": "A26xpoGfB7tE",
        "outputId": "7f7c6b45-5309-4c06-b55d-0c786bd9711a"
      },
      "execution_count": 58,
      "outputs": [
        {
          "output_type": "stream",
          "name": "stdout",
          "text": [
            "1\n",
            "2\n",
            "3\n",
            "4\n",
            "5\n",
            "6\n",
            "7\n",
            "8\n",
            "9\n",
            "10\n"
          ]
        }
      ]
    },
    {
      "cell_type": "markdown",
      "source": [
        "13. If you had a function named bacon() inside a module named spam, how would you call it after importing spam?\n",
        "\n",
        "Answer: This function can be called with spam.bacon()."
      ],
      "metadata": {
        "id": "8oMlgnTMCVS1"
      }
    }
  ]
}