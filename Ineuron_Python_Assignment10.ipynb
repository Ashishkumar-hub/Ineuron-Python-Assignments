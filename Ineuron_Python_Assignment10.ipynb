{
  "nbformat": 4,
  "nbformat_minor": 0,
  "metadata": {
    "colab": {
      "name": "Ineuron_Python_Assignment10.ipynb",
      "provenance": []
    },
    "kernelspec": {
      "name": "python3",
      "display_name": "Python 3"
    },
    "language_info": {
      "name": "python"
    }
  },
  "cells": [
    {
      "cell_type": "markdown",
      "source": [
        "**Ineuron Python Assignment 10**"
      ],
      "metadata": {
        "id": "0QTeQgtT33mD"
      }
    },
    {
      "cell_type": "markdown",
      "source": [
        "Ques 1. How do you distinguish between shutil.copy() and shutil.copytree()?\n",
        "\n",
        "Answer: The shutil. copy() function will copy a single file, while shutil. copytree() will copy an entire folder, along with all its contents."
      ],
      "metadata": {
        "id": "NnAW7efczGBH"
      }
    },
    {
      "cell_type": "markdown",
      "source": [
        "\n",
        "Ques 2. What function is used to rename files??\n",
        "\n",
        "Answer: os. rename() method in Python is used to rename a file or directory."
      ],
      "metadata": {
        "id": "Aburabxnzb_G"
      }
    },
    {
      "cell_type": "markdown",
      "source": [
        "\n",
        "Ques 3. What is the difference between the delete functions in the send2trash and shutil modules?\n",
        "\n",
        "Answer: The send2trash functions will move a file or folder to the recycle bin, while shutil functions will permanently delete files and folders."
      ],
      "metadata": {
        "id": "nDsipKqizduM"
      }
    },
    {
      "cell_type": "markdown",
      "source": [
        "\n",
        "Ques 4. ZipFile objects have a close() method just like File objects’ close() method. What ZipFile method is\n",
        "equivalent to File objects’ open() method?\n",
        "\n",
        "Answer: The zipfile.ZipFile() function is equivalent to the open() function; the first argument is the filename, and the second argument is the mode to open the ZIP file in (read, write, or append)."
      ],
      "metadata": {
        "id": "K1HXQSZtzfU5"
      }
    },
    {
      "cell_type": "markdown",
      "source": [
        "\n",
        "Ques 5. Create a programme that searches a folder tree for files with a certain file extension (such as .pdf or .jpg). Copy these files from whatever location they are in to a new folder.\n",
        "\n",
        "Answer: "
      ],
      "metadata": {
        "id": "beZ599SezhWG"
      }
    },
    {
      "cell_type": "code",
      "source": [
        "#using colab notebook to do the assignment the following code will run for the program we can mpunt the \n",
        "#drive for assocaited folders and copy it to another folder\n",
        "#folder = 'copy the folder location drive after mouting the drive in colab'\n",
        "#destFolder = 'enter the destination folder location after mounting the drive in colab'\n",
        "\n",
        "import os, shutil\n",
        "\n",
        "def selectiveCopy(folder, extensions, destFolder):\n",
        "\tfolder = os.path.abspath(folder)\n",
        "\tdestFolder = os.path.abspath(destFolder)\n",
        "\tprint('Looking in', folder, 'for files with extensions of', ', '.join(extensions))\n",
        "\tfor foldername, subfolders, filenames in os.walk(folder):\n",
        "\t\tfor filename in filenames:\n",
        "\t\t\tname, extension = os.path.splitext(filename)\n",
        "\t\t\tif extension in extensions:\n",
        "\t\t\t\tfileAbsPath = foldername + os.path.sep + filename\n",
        "\t\t\t\tprint('Coping', fileAbsPath, 'to', destFolder)\n",
        "\t\t\t\tshutil.copy(fileAbsPath, destFolder)\n",
        "\n",
        "extensions = ['.pdf', '.jpg']\n",
        "folder = 'randomFolder'\n",
        "destFolder = 'selectiveFolder'\n",
        "selectiveCopy(folder, extensions, destFolder)"
      ],
      "metadata": {
        "colab": {
          "base_uri": "https://localhost:8080/"
        },
        "id": "qHhy_lix2yTF",
        "outputId": "e275c646-e434-49c0-b6fa-e0b7067942e1"
      },
      "execution_count": 2,
      "outputs": [
        {
          "output_type": "stream",
          "name": "stdout",
          "text": [
            "Looking in /content/randomFolder for files with extensions of .pdf, .jpg\n"
          ]
        }
      ]
    }
  ]
}