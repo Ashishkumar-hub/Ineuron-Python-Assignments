{
  "nbformat": 4,
  "nbformat_minor": 0,
  "metadata": {
    "colab": {
      "name": "Ineuron_Python_Assignment9.ipynb",
      "provenance": []
    },
    "kernelspec": {
      "name": "python3",
      "display_name": "Python 3"
    },
    "language_info": {
      "name": "python"
    }
  },
  "cells": [
    {
      "cell_type": "markdown",
      "source": [
        "**Ineuron Python Assignment 9**"
      ],
      "metadata": {
        "id": "nGzPUOQpV9jM"
      }
    },
    {
      "cell_type": "markdown",
      "source": [
        "Ques 1. To what does a relative path refer?\n",
        "\n",
        "Answer: os.path.relpath() method in Python is used to get a relative filepath to the given path either from the current working directory or from the given directory.\n",
        "In short, relative paths are relative to the current working directory."
      ],
      "metadata": {
        "id": "2L-G4Y0iVtOK"
      }
    },
    {
      "cell_type": "code",
      "source": [
        "import os\n",
        "path = \"/home / User / Desktop / file.txt\"\n",
        "start = \"/home / User \"\n",
        "relative_path = os.path.relpath(path,start)\n",
        "print(relative_path)"
      ],
      "metadata": {
        "colab": {
          "base_uri": "https://localhost:8080/"
        },
        "id": "4542-DaHWlrO",
        "outputId": "a0504077-00aa-4890-d600-27a1a61d41b0"
      },
      "execution_count": 8,
      "outputs": [
        {
          "output_type": "stream",
          "name": "stdout",
          "text": [
            " Desktop / file.txt\n"
          ]
        }
      ]
    },
    {
      "cell_type": "markdown",
      "source": [
        "Ques 2. What does an absolute path start with your operating system?\n",
        "\n",
        "Answer: An absolute path is a path that contains the entire path to the file or directory that we need to access. This path will begin at the home directory of your computer and will end with the file or directory that we wish to access. \n",
        "\n",
        "Absolute paths ensure that Python can find the exact file on computer. Basically we can say that absolute paths start with the root folder, such as / or C:\\."
      ],
      "metadata": {
        "id": "rK9dZRRNVvYb"
      }
    },
    {
      "cell_type": "markdown",
      "source": [
        "Ques 3. What do the functions os.getcwd() and os.chdir() do?\n",
        "\n",
        "Answer: In Python, we can get and change (set) the current working directory with os.getcwd() and os.chdir().\n",
        "os module is included in the standard library, so no additional installation is required.\n",
        "\n",
        "The os.getcwd() function returns the current working directory. The os.chdir() function changes the current working directory."
      ],
      "metadata": {
        "id": "SiITb3s1Vxz2"
      }
    },
    {
      "cell_type": "markdown",
      "source": [
        "\n",
        "Ques 4. What are the . and .. folders?\n",
        "\n",
        "Answer: The . folder is the current folder, and .. is the parent folder."
      ],
      "metadata": {
        "id": "8qORx8eKV0Ha"
      }
    },
    {
      "cell_type": "markdown",
      "source": [
        "\n",
        "Ques 5. In C:\\bacon\\eggs\\spam.txt, which part is the dir name, and which part is the base name?\n",
        "\n",
        "Answer: C:\\bacon\\eggs is the dir name, while spam. txt is the base name."
      ],
      "metadata": {
        "id": "xfOq8UBJV1jD"
      }
    },
    {
      "cell_type": "markdown",
      "source": [
        "\n",
        "Ques 6. What are the three “mode” arguments that can be passed to the open() function?\n",
        "\n",
        "Answer: open(file, mode='r', buffering=-1, encoding=None, errors=None, newline=None, closefd=True, opener=None)\n",
        "\n",
        "r: Opens the file in read-only mode. Starts reading from the beginning of the file and is the default mode for the open() function.\n",
        "\n",
        "w: Opens in write-only mode. The pointer is placed at the beginning of the file and this will overwrite any existing file with the same name. It will create a new file if one with the same name doesn't exist.\n",
        "\n",
        "r+: opens file for reading and writing placing the pointer at the beginning of the file.\n",
        "\n",
        "a: append mode"
      ],
      "metadata": {
        "id": "_cggMocIV3Bi"
      }
    },
    {
      "cell_type": "markdown",
      "source": [
        "\n",
        "Ques 7. What happens if an existing file is opened in write mode?\n",
        "\n",
        "Answer: The pointer is placed at the beginning of the file and this will overwrite any existing file with the same name. It will create a new file if one with the same name doesn't exist."
      ],
      "metadata": {
        "id": "c7XugjSpV4Qb"
      }
    },
    {
      "cell_type": "markdown",
      "source": [
        "Ques 8. How do you tell the difference between read() and readlines()?\n",
        "\n",
        "Answer: The read() method returns the file's entire contents as a single string value. The readlines() method returns a list of strings, where each string is a line from the file's contents. "
      ],
      "metadata": {
        "id": "zmjRNuc8V6B3"
      }
    },
    {
      "cell_type": "markdown",
      "source": [
        "Ques 9. What data structure does a shelf value resemble?\n",
        "\n",
        "Answer: A shelf value resembles a dictionary value; it has keys and values, along with keys() and values() methods that work similarly to the dictionary methods of the same names. "
      ],
      "metadata": {
        "id": "ySoqAbxHV7od"
      }
    }
  ]
}