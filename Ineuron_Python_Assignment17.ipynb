{
  "nbformat": 4,
  "nbformat_minor": 0,
  "metadata": {
    "colab": {
      "name": "Ineuron_Python_Assignment17.ipynb",
      "provenance": []
    },
    "kernelspec": {
      "name": "python3",
      "display_name": "Python 3"
    },
    "language_info": {
      "name": "python"
    }
  },
  "cells": [
    {
      "cell_type": "markdown",
      "source": [
        "**Ineuron Python Assignment 17**"
      ],
      "metadata": {
        "id": "L9T-Qtn-DykM"
      }
    },
    {
      "cell_type": "markdown",
      "source": [
        "Ques 1. Assign the value 7 to the variable guess_me. Then, write the conditional tests (if, else, and elif) to print the string 'too low' if guess_me is less than 7, 'too high' if greater than 7, and 'just right' if equal to 7."
      ],
      "metadata": {
        "id": "uxTqiFPGD3nZ"
      }
    },
    {
      "cell_type": "code",
      "execution_count": 5,
      "metadata": {
        "colab": {
          "base_uri": "https://localhost:8080/"
        },
        "id": "YNQwUJqpDwRf",
        "outputId": "fafa2663-5d0b-452f-e231-5e1fac1d2716"
      },
      "outputs": [
        {
          "output_type": "stream",
          "name": "stdout",
          "text": [
            "just right\n"
          ]
        }
      ],
      "source": [
        "guess_me = 7\n",
        "if guess_me <7:\n",
        "  print(\"too low\")\n",
        "elif guess_me > 7:\n",
        "  print(\"too high\") \n",
        "else:\n",
        "  print(\"just right\")"
      ]
    },
    {
      "cell_type": "markdown",
      "source": [
        "Ques 2. Assign the value 7 to the variable guess_me and the value 1 to the variable start. Write a while loop that compares start with guess_me. Print too low if start is less than guess me. If start equals guess_me, print 'found it!' and exit the loop. If start is greater than guess_me, print 'oops' and exit the loop. Increment start at the end of the loop"
      ],
      "metadata": {
        "id": "NJWQC5hYEur8"
      }
    },
    {
      "cell_type": "code",
      "source": [
        "guess_me = 7\n",
        "start = 1\n",
        "while True:\n",
        "    if start < guess_me:\n",
        "        print('too low')\n",
        "    elif start == guess_me:\n",
        "        print('found it!')\n",
        "        break\n",
        "    else:\n",
        "        print('oops')\n",
        "        break\n",
        "    start += 1\n",
        "    "
      ],
      "metadata": {
        "colab": {
          "base_uri": "https://localhost:8080/"
        },
        "id": "jxvpgqsLF88n",
        "outputId": "28078af1-918a-42eb-c216-ba38839b5a9b"
      },
      "execution_count": 13,
      "outputs": [
        {
          "output_type": "stream",
          "name": "stdout",
          "text": [
            "too low\n",
            "too low\n",
            "too low\n",
            "too low\n",
            "too low\n",
            "too low\n",
            "found it!\n"
          ]
        }
      ]
    },
    {
      "cell_type": "markdown",
      "source": [
        "Ques 3. Print the following values of the list [3, 2, 1, 0] using a for loop."
      ],
      "metadata": {
        "id": "rm45bkAKGrPM"
      }
    },
    {
      "cell_type": "code",
      "source": [
        "l = [3,2,1,0]\n",
        "for i in l:\n",
        "  print(i)"
      ],
      "metadata": {
        "colab": {
          "base_uri": "https://localhost:8080/"
        },
        "id": "9sAxtM_4Gci9",
        "outputId": "86f9a395-cc9f-4c63-9a21-af3966ae5eac"
      },
      "execution_count": 14,
      "outputs": [
        {
          "output_type": "stream",
          "name": "stdout",
          "text": [
            "3\n",
            "2\n",
            "1\n",
            "0\n"
          ]
        }
      ]
    },
    {
      "cell_type": "markdown",
      "source": [
        "Ques 4. Use a list comprehension to make a list of the even numbers in range(10)"
      ],
      "metadata": {
        "id": "UBIgkiCXHB1X"
      }
    },
    {
      "cell_type": "code",
      "source": [
        "even = [item for item in range(10) if item%2==0]\n",
        "even"
      ],
      "metadata": {
        "colab": {
          "base_uri": "https://localhost:8080/"
        },
        "id": "wzlUMoG6HBsI",
        "outputId": "21439209-6963-41f8-e5a7-54316e721349"
      },
      "execution_count": 15,
      "outputs": [
        {
          "output_type": "execute_result",
          "data": {
            "text/plain": [
              "[0, 2, 4, 6, 8]"
            ]
          },
          "metadata": {},
          "execution_count": 15
        }
      ]
    },
    {
      "cell_type": "markdown",
      "source": [
        "Ques 5. Use a dictionary comprehension to create the dictionary squares. Use range(10) to return the keys, and use the square of each key as its value."
      ],
      "metadata": {
        "id": "OR7Wm1q3HLOP"
      }
    },
    {
      "cell_type": "code",
      "source": [
        "squares = {num: num * num for num in range(10)}\n",
        "squares"
      ],
      "metadata": {
        "colab": {
          "base_uri": "https://localhost:8080/"
        },
        "id": "oqHpJgnxG5lP",
        "outputId": "b6057eaf-6de6-4eba-bce5-09f912cb4603"
      },
      "execution_count": 16,
      "outputs": [
        {
          "output_type": "execute_result",
          "data": {
            "text/plain": [
              "{0: 0, 1: 1, 2: 4, 3: 9, 4: 16, 5: 25, 6: 36, 7: 49, 8: 64, 9: 81}"
            ]
          },
          "metadata": {},
          "execution_count": 16
        }
      ]
    },
    {
      "cell_type": "markdown",
      "source": [
        "Ques 6. Construct the set odd from the odd numbers in the range using a set comprehension (10)."
      ],
      "metadata": {
        "id": "CQCjGESRHfuW"
      }
    },
    {
      "cell_type": "code",
      "source": [
        "odd = {item for item in range(10) if item%2==1}\n",
        "odd"
      ],
      "metadata": {
        "colab": {
          "base_uri": "https://localhost:8080/"
        },
        "id": "HRoph9BwHWEY",
        "outputId": "8b29e712-4b04-4a13-a68c-72438d7d4c93"
      },
      "execution_count": 17,
      "outputs": [
        {
          "output_type": "execute_result",
          "data": {
            "text/plain": [
              "{1, 3, 5, 7, 9}"
            ]
          },
          "metadata": {},
          "execution_count": 17
        }
      ]
    },
    {
      "cell_type": "markdown",
      "source": [
        "Ques 7. Use a generator comprehension to return the string 'Got' and a number for the numbers in range(10). Iterate through this by using a for loop."
      ],
      "metadata": {
        "id": "yQSrDX0WHl4e"
      }
    },
    {
      "cell_type": "code",
      "source": [
        "string_generator = ('Got ' + str(num) for num in range(10))\n",
        "for item in string_generator:\n",
        "    print(item)"
      ],
      "metadata": {
        "colab": {
          "base_uri": "https://localhost:8080/"
        },
        "id": "_RRuT8XFHkwn",
        "outputId": "61628de1-3dc3-4cf6-e36a-34452c1720cf"
      },
      "execution_count": 18,
      "outputs": [
        {
          "output_type": "stream",
          "name": "stdout",
          "text": [
            "Got 0\n",
            "Got 1\n",
            "Got 2\n",
            "Got 3\n",
            "Got 4\n",
            "Got 5\n",
            "Got 6\n",
            "Got 7\n",
            "Got 8\n",
            "Got 9\n"
          ]
        }
      ]
    },
    {
      "cell_type": "markdown",
      "source": [
        "Ques 8. Define a function called good that returns the list ['Harry', 'Ron', 'Hermione']"
      ],
      "metadata": {
        "id": "Hh1eOqNMH0mK"
      }
    },
    {
      "cell_type": "code",
      "source": [
        "def retunList():\n",
        "    return ['Harry', 'Ron', 'Hermione']\n",
        "retunList()"
      ],
      "metadata": {
        "colab": {
          "base_uri": "https://localhost:8080/"
        },
        "id": "6_0DUjB6HxWU",
        "outputId": "6f42ae9d-36e1-461a-8b49-04237a126243"
      },
      "execution_count": 19,
      "outputs": [
        {
          "output_type": "execute_result",
          "data": {
            "text/plain": [
              "['Harry', 'Ron', 'Hermione']"
            ]
          },
          "metadata": {},
          "execution_count": 19
        }
      ]
    },
    {
      "cell_type": "markdown",
      "source": [
        "Ques 9. Define a generator function called get_odds that returns the odd numbers from range(10). Use a for loop to find and print the third value returned"
      ],
      "metadata": {
        "id": "svSp3tzkH-GV"
      }
    },
    {
      "cell_type": "code",
      "source": [
        "def get_odds():\n",
        "    for number in range(1, 10, 2):\n",
        "         yield number\n",
        "count = 1\n",
        "for number in get_odds():\n",
        "    if count == 3:\n",
        "        print(\"The third odd number is\", number)\n",
        "        break\n",
        "    count += 1"
      ],
      "metadata": {
        "colab": {
          "base_uri": "https://localhost:8080/"
        },
        "id": "gDylK7cwH9M_",
        "outputId": "d2972613-f9c0-4f00-d247-39a3db6612ae"
      },
      "execution_count": 20,
      "outputs": [
        {
          "output_type": "stream",
          "name": "stdout",
          "text": [
            "The third odd number is 5\n"
          ]
        }
      ]
    },
    {
      "cell_type": "markdown",
      "source": [
        "Ques 10: Define an exception called OopsException. Raise this exception to see what happens. Then write the code to catch this exception and print 'Caught an oops'  "
      ],
      "metadata": {
        "id": "XAM12NafIPuK"
      }
    },
    {
      "cell_type": "code",
      "source": [
        "class OopsException(Exception):\n",
        "    pass\n",
        "def raiseException(num):\n",
        "    if num < 0:\n",
        "        raise OopsException(num)\n",
        "try:\n",
        "    raiseException(-1)\n",
        "except OopsException as err:\n",
        "    print('Caught an oops')"
      ],
      "metadata": {
        "colab": {
          "base_uri": "https://localhost:8080/"
        },
        "id": "q2CAvu9rIOvb",
        "outputId": "b04d01bd-7cd9-482d-c80e-0ba602951317"
      },
      "execution_count": 21,
      "outputs": [
        {
          "output_type": "stream",
          "name": "stdout",
          "text": [
            "Caught an oops\n"
          ]
        }
      ]
    },
    {
      "cell_type": "markdown",
      "source": [
        "Ques 11. Use zip() to make a dictionary called movies that pairs these lists: titles = ['Creature of Habit', 'Crewel Fate'] and plots = ['A nun turns into a monster', 'A haunted yarn shop']."
      ],
      "metadata": {
        "id": "xzMXUf_KIYfh"
      }
    },
    {
      "cell_type": "code",
      "source": [
        "titles = ['Creature of Habit', 'Crewel Fate']\n",
        "plots = ['A nun turns into a monster', 'A haunted yarn shop']\n",
        "movies = dict(zip(titles, plots))\n",
        "print(movies)"
      ],
      "metadata": {
        "colab": {
          "base_uri": "https://localhost:8080/"
        },
        "id": "3HUGR9eXIX-L",
        "outputId": "77947ff9-0118-4e7d-f325-e5c9bf501e1f"
      },
      "execution_count": 22,
      "outputs": [
        {
          "output_type": "stream",
          "name": "stdout",
          "text": [
            "{'Creature of Habit': 'A nun turns into a monster', 'Crewel Fate': 'A haunted yarn shop'}\n"
          ]
        }
      ]
    }
  ]
}