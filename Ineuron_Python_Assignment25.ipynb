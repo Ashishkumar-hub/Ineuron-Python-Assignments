{
  "nbformat": 4,
  "nbformat_minor": 0,
  "metadata": {
    "colab": {
      "name": "Ineuron_Python_Assignment25.ipynb",
      "provenance": [],
      "collapsed_sections": []
    },
    "kernelspec": {
      "name": "python3",
      "display_name": "Python 3"
    },
    "language_info": {
      "name": "python"
    }
  },
  "cells": [
    {
      "cell_type": "markdown",
      "metadata": {
        "id": "G07NchKKvC4p"
      },
      "source": [
        "**Ineuron Python Assignment 25**"
      ]
    },
    {
      "cell_type": "markdown",
      "metadata": {
        "id": "hEGXy9EvvIU7"
      },
      "source": [
        "Ques 1. What is the difference between enclosing a list comprehension in square brackets and parentheses?\n"
      ]
    },
    {
      "cell_type": "code",
      "metadata": {
        "colab": {
          "base_uri": "https://localhost:8080/"
        },
        "id": "fArdZAMMunO0",
        "outputId": "1d7839d9-8ce9-4094-dd6a-46b6771f02bd"
      },
      "source": [
        "lst = [i for i in range(10)]\n",
        "lst\n",
        "#List Comprehension with square brackets produces list.\n",
        "#List Comprehension with parentheses creates generators"
      ],
      "execution_count": 1,
      "outputs": [
        {
          "output_type": "execute_result",
          "data": {
            "text/plain": [
              "[0, 1, 2, 3, 4, 5, 6, 7, 8, 9]"
            ]
          },
          "metadata": {},
          "execution_count": 1
        }
      ]
    },
    {
      "cell_type": "code",
      "metadata": {
        "colab": {
          "base_uri": "https://localhost:8080/"
        },
        "id": "h5bUQk9Cvclp",
        "outputId": "e16392af-edbd-4773-deaa-7151099ef2f1"
      },
      "source": [
        "#it is actually a generator expression - this expression is a one time only iterator which will yield the values 1, 2, 3, 4.... in that order\n",
        "lstParanthesis = (i for i in range(10))\n",
        "lstParanthesis"
      ],
      "execution_count": 3,
      "outputs": [
        {
          "output_type": "execute_result",
          "data": {
            "text/plain": [
              "<generator object <genexpr> at 0x7fdf7d9d0050>"
            ]
          },
          "metadata": {},
          "execution_count": 3
        }
      ]
    },
    {
      "cell_type": "code",
      "metadata": {
        "colab": {
          "base_uri": "https://localhost:8080/"
        },
        "id": "EHYb5PIXvm8q",
        "outputId": "1e546a19-40e2-4d73-d7c0-b6d71393c763"
      },
      "source": [
        "list(lstParanthesis)"
      ],
      "execution_count": 4,
      "outputs": [
        {
          "output_type": "execute_result",
          "data": {
            "text/plain": [
              "[0, 1, 2, 3, 4, 5, 6, 7, 8, 9]"
            ]
          },
          "metadata": {},
          "execution_count": 4
        }
      ]
    },
    {
      "cell_type": "markdown",
      "metadata": {
        "id": "QFXxI9eivvkZ"
      },
      "source": [
        "Ques 2. What is the relationship between generators and iterators?\n",
        "\n",
        "Answer. An iterator is an object which contains a countable number of values and it is used to iterate over iterable objects like list, tuples etc\n",
        "Using an iterator-\n",
        "iter() keyword is used to create an iterator containing an iterable object.\n",
        "next() keyword is used to call the next element in the iterable object.\n",
        "\n",
        "Generator\n",
        "\n",
        "It is another way of creating iterators in a simple way where it uses the keyword “yield” instead of returning it in a defined function\n",
        "Generators are implemented using a function\n",
        "Here, the yield function returns the data without affecting or exiting the function. \n",
        "It will return a sequence of data in an iterable format where we need to iterate over the sequence to use the data as they won’t store the entire sequence in the memory\n",
        "By using next() function we can iterate the output of generator function\n"
      ]
    },
    {
      "cell_type": "code",
      "metadata": {
        "colab": {
          "base_uri": "https://localhost:8080/"
        },
        "id": "1uQyvocMvsuL",
        "outputId": "6422a9fc-25b1-456e-951d-dec82652ff26"
      },
      "source": [
        "# iterator\n",
        "iter_list = iter(['Dog', 'CAt', 'Bear'])\n",
        "print(next(iter_list))\n",
        "print(next(iter_list))\n",
        "print(next(iter_list))"
      ],
      "execution_count": 5,
      "outputs": [
        {
          "output_type": "stream",
          "name": "stdout",
          "text": [
            "Dog\n",
            "CAt\n",
            "Bear\n"
          ]
        }
      ]
    },
    {
      "cell_type": "code",
      "metadata": {
        "id": "h4n8DA4XwJT9"
      },
      "source": [
        "# Generator \n",
        "def sq(n):\n",
        "    for i in range(1, n+1):\n",
        "        yield i*i"
      ],
      "execution_count": 7,
      "outputs": []
    },
    {
      "cell_type": "code",
      "metadata": {
        "colab": {
          "base_uri": "https://localhost:8080/"
        },
        "id": "AA7sHX0TwL3X",
        "outputId": "9c75c347-5057-4874-85b0-29d92ac7418b"
      },
      "source": [
        "sq(6)\n"
      ],
      "execution_count": 8,
      "outputs": [
        {
          "output_type": "execute_result",
          "data": {
            "text/plain": [
              "<generator object sq at 0x7fdf7d9d00d0>"
            ]
          },
          "metadata": {},
          "execution_count": 8
        }
      ]
    },
    {
      "cell_type": "code",
      "metadata": {
        "colab": {
          "base_uri": "https://localhost:8080/"
        },
        "id": "T7S5E61FwP4b",
        "outputId": "4dd3a758-94f6-4ab2-9d7a-3a22d54bc4cb"
      },
      "source": [
        "lst = sq(6)\n",
        "lst"
      ],
      "execution_count": 9,
      "outputs": [
        {
          "output_type": "execute_result",
          "data": {
            "text/plain": [
              "<generator object sq at 0x7fdf7d9d0cd0>"
            ]
          },
          "metadata": {},
          "execution_count": 9
        }
      ]
    },
    {
      "cell_type": "code",
      "metadata": {
        "colab": {
          "base_uri": "https://localhost:8080/"
        },
        "id": "59P_emKmwcsj",
        "outputId": "8d162031-75a4-49a1-fc4a-52bc5229ff46"
      },
      "source": [
        "print(next(lst))\n",
        "print(next(lst))\n",
        "print(next(lst))\n",
        "print(next(lst))"
      ],
      "execution_count": 10,
      "outputs": [
        {
          "output_type": "stream",
          "name": "stdout",
          "text": [
            "1\n",
            "4\n",
            "9\n",
            "16\n"
          ]
        }
      ]
    },
    {
      "cell_type": "markdown",
      "metadata": {
        "id": "JC-dkwWbwjBd"
      },
      "source": [
        "Ques 3. What are the signs that a function is a generator function?\n",
        "\n",
        "Answer: If a function contains at least one yield statement (it may contain other yield or return statements), it becomes a generator function. Both yield and return will return some value from a function."
      ]
    },
    {
      "cell_type": "markdown",
      "metadata": {
        "id": "qHoznQkcwuY0"
      },
      "source": [
        "Ques 4. What is the purpose of a yield statement?\n",
        "\n",
        "Answer: A yield statement looks much like a return statement, except that instead of stopping execution of the function and \n",
        "returning, yield instead provides a value to the code looping over the generator and pauses execution of the generator \n",
        "function"
      ]
    },
    {
      "cell_type": "markdown",
      "metadata": {
        "id": "UF-zPgTJw4gI"
      },
      "source": [
        "Ques 5. What is the relationship between map calls and list comprehensions? Make a comparison and contrast between the two.\n",
        "\n",
        "Answer.\n",
        "* Map function:\n",
        "Suppose we have a function and we want to compute this function for different values in a single line of code . This is where map() function plays its role. map() function returns a map object(which is an iterator) of the results after applying the given function to each item of a given iterable (list, tuple etc.)\n",
        "\n",
        "* If we already have a function defined, it is often good to use map For example, map(sum, myLists) is more neat than [sum(x) for x in myLists]. You gain the elegance of not having to make up a dummy variable (e.g. sum(x) for x... or sum(_) for _... or sum(readableName) for readableName...) which you have to type twice, just to iterate.\n",
        "\n",
        "* List Comprehension:\n",
        "List Comprehension is a substitute for the lambda function, map(), filter() and reduce()\n",
        "\n",
        "\n",
        "* Comparision :\n",
        "    1. List comprehension is more concise and easier to read as compared to map\n",
        "    2. List comprehension allows filtering. In map, we have no such facility\n",
        "    For example, to print all even numbers in range of 100, we can write [n for n in range(100) if n%2 == 0]. There is \n",
        "    no alternate for it in map\n",
        "    3. List comprehension are used when a list of results is required, where as map only returns a map object and does \n",
        "    not return any list.\n",
        "    4. List comprehension is faster than map when we need to evaluate expressions that are too long or complicated \n",
        "    to express\n",
        "    5. Map is faster in case of calling an already defined function (as no lambda is required)\n",
        "\n"
      ]
    }
  ]
}