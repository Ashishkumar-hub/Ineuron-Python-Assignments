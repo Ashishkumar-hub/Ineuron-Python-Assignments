{
  "nbformat": 4,
  "nbformat_minor": 0,
  "metadata": {
    "colab": {
      "name": "Ineuron_Python_Assignment3.ipynb",
      "provenance": []
    },
    "kernelspec": {
      "name": "python3",
      "display_name": "Python 3"
    },
    "language_info": {
      "name": "python"
    }
  },
  "cells": [
    {
      "cell_type": "markdown",
      "source": [
        "####Ineuron Python Assignment 3"
      ],
      "metadata": {
        "id": "Wq93w4SvFzzB"
      }
    },
    {
      "cell_type": "markdown",
      "source": [
        "1. Why are functions advantageous to have in your programs?\n",
        "\n",
        "Answer: Functions reduce the need for duplicate code. This makes programs shorter, easier to read, and easier to update. In short, reduce code complexity. "
      ],
      "metadata": {
        "id": "Ki9Ch-BqFO-U"
      }
    },
    {
      "cell_type": "markdown",
      "source": [
        "2. When does the code in a function run: when it's specified or when it's called?\n",
        "\n",
        "Answer: The code in a function executes when the function is called, not when the function is defined.\n",
        "\n"
      ],
      "metadata": {
        "id": "N53F5IAoFTN4"
      }
    },
    {
      "cell_type": "markdown",
      "source": [
        "3. What statement creates a function?\n",
        "\n",
        "Answer: \n",
        "The def statement defines (that is, creates) a function."
      ],
      "metadata": {
        "id": "X5iU2OXHFVoT"
      }
    },
    {
      "cell_type": "markdown",
      "source": [
        "4. What is the difference between a function and a function call?\n",
        "\n",
        "Answer: A function consists of the def statement and the code in its def clause.\n",
        "\n",
        "A function call is what moves the program execution into the function, and the function call evaluates to the function's return value."
      ],
      "metadata": {
        "id": "CdwjWpr8FZCP"
      }
    },
    {
      "cell_type": "markdown",
      "source": [
        "5. How many global scopes are there in a Python program? How many local scopes?\n",
        "\n",
        "Answer: \n",
        "\n",
        "There is one global scope, and a local scope is created whenever a function is called."
      ],
      "metadata": {
        "id": "YcnHLGX0FbVR"
      }
    },
    {
      "cell_type": "markdown",
      "source": [
        "6. What happens to variables in a local scope when the function call returns?\n",
        "\n",
        "Answer: \n",
        "When a function returns, the local scope is destroyed, and all the variables in it are forgotten.\n"
      ],
      "metadata": {
        "id": "W4vx9I1lFd76"
      }
    },
    {
      "cell_type": "markdown",
      "source": [
        "7. What is the concept of a return value? Is it possible to have a return value in an expression?\n",
        "\n",
        "Answer: \n",
        "A return value is the value that a function call evaluates to. Like any value, a return value can be used as part of an expression."
      ],
      "metadata": {
        "id": "4uPuBADuFgYN"
      }
    },
    {
      "cell_type": "markdown",
      "source": [
        "8. If a function does not have a return statement, what is the return value of a call to that function?\n",
        "\n",
        "Answer: \n",
        "If there is no return statement for a function, its return value is None."
      ],
      "metadata": {
        "id": "7-Upl9LhFijl"
      }
    },
    {
      "cell_type": "markdown",
      "source": [
        "9. How do you make a function variable refer to the global variable?\n",
        "\n",
        "Answer: \n",
        "A global statement will force a variable in a function to refer to the global variable."
      ],
      "metadata": {
        "id": "pcd-6YP9Fk4B"
      }
    },
    {
      "cell_type": "markdown",
      "source": [
        "10. What is the data type of None?\n",
        "\n",
        "Answer: The data type of None is NoneType."
      ],
      "metadata": {
        "id": "_cGbL8_RFnh5"
      }
    },
    {
      "cell_type": "markdown",
      "source": [
        "11. What does the sentence import areallyourpetsnamederic do?\n",
        "\n",
        "Answer: if thre is a module named areallyourpetsnamederic existing in memory it will import it in this case as there is no module name areallyourpetsnamederic it will show Module Not Found Error. \"No module named 'areallyourpetsnamederic' \""
      ],
      "metadata": {
        "id": "dABynzzXFpzN"
      }
    },
    {
      "cell_type": "markdown",
      "source": [
        "12. If you had a bacon() feature in a spam module, what would you call it after importing spam?\n",
        "\n",
        "Answer: spam.bacon()"
      ],
      "metadata": {
        "id": "wXWbwmRRFr0I"
      }
    },
    {
      "cell_type": "markdown",
      "source": [
        "13. What can you do to save a programme from crashing if it encounters an error?\n",
        "\n",
        "Answer: Error handling can be used to notify the user of why the error occurred and gracefully exit the process that caused the error."
      ],
      "metadata": {
        "id": "a4dMfibgFtof"
      }
    },
    {
      "cell_type": "markdown",
      "source": [
        "14. What is the purpose of the try clause? What is the purpose of the except clause?\n",
        "\n",
        "Answer: Try and Except statement is used to handle these errors within our code in Python. The try block is used to check some code for errors i.e the code inside the try block will execute when there is no error in the program. Whereas the code inside the except block will execute whenever the program encounters some error in the preceding try block.\n"
      ],
      "metadata": {
        "id": "TwT0rXbxFvWU"
      }
    },
    {
      "cell_type": "code",
      "source": [
        "def divide(x, y):\n",
        "    try:\n",
        "        result = x / y\n",
        "        print(\"Yeah ! Your answer is :\", result)\n",
        "    except ZeroDivisionError:\n",
        "        print(\"Sorry ! You are dividing by zero \") \n",
        "a = int(input(\"Enter value of a:\"))\n",
        "b = int(input(\"Enter value of b:\"))\n",
        "divide(a, b)"
      ],
      "metadata": {
        "colab": {
          "base_uri": "https://localhost:8080/"
        },
        "id": "R2JBr9ZeLXp5",
        "outputId": "2fc58838-9ab2-44e9-d9c3-a623fe08af81"
      },
      "execution_count": 5,
      "outputs": [
        {
          "output_type": "stream",
          "name": "stdout",
          "text": [
            "Enter value of a:5\n",
            "Enter value of b:0\n",
            "Sorry ! You are dividing by zero \n"
          ]
        }
      ]
    }
  ]
}
